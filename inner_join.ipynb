{
 "cells": [
  {
   "cell_type": "code",
   "execution_count": 2,
   "metadata": {},
   "outputs": [],
   "source": [
    "import os\n",
    "\n",
    "os.environ['SPARK_HOME'] = \"C:\\spark\"\n"
   ]
  },
  {
   "cell_type": "code",
   "execution_count": 3,
   "metadata": {},
   "outputs": [],
   "source": [
    "import findspark\n",
    "findspark.init()"
   ]
  },
  {
   "cell_type": "code",
   "execution_count": 4,
   "metadata": {},
   "outputs": [],
   "source": [
    "from pyspark.sql import SparkSession"
   ]
  },
  {
   "cell_type": "code",
   "execution_count": 5,
   "metadata": {},
   "outputs": [],
   "source": [
    "spark = SparkSession.builder.master(\"local[*]\").getOrCreate()"
   ]
  },
  {
   "cell_type": "code",
   "execution_count": 6,
   "metadata": {},
   "outputs": [],
   "source": [
    "from pyspark.sql import functions as f"
   ]
  },
  {
   "cell_type": "code",
   "execution_count": 7,
   "metadata": {},
   "outputs": [],
   "source": [
    "produtos = spark.createDataFrame(\n",
    "    [\n",
    "        ('1', 'Bebidas', 'Água mineral'), \n",
    "        ('2', 'Limpeza', 'Sabão em pó'), \n",
    "        ('3', 'Frios', 'Queijo'), \n",
    "        ('4', 'Bebidas', 'Refrigerante'),\n",
    "        ('5', 'Pet', 'Ração para cães')\n",
    "    ],\n",
    "    ['id', 'cat', 'prod']\n",
    ")\n",
    "\n",
    "impostos = spark.createDataFrame(\n",
    "    [\n",
    "        ('Bebidas', 0.15), \n",
    "        ('Limpeza', 0.05),\n",
    "        ('Frios', 0.065),\n",
    "        ('Carnes', 0.08)\n",
    "    ],\n",
    "    ['cat', 'tax']\n",
    ")"
   ]
  },
  {
   "cell_type": "code",
   "execution_count": 8,
   "metadata": {},
   "outputs": [
    {
     "data": {
      "text/html": [
       "<div>\n",
       "<style scoped>\n",
       "    .dataframe tbody tr th:only-of-type {\n",
       "        vertical-align: middle;\n",
       "    }\n",
       "\n",
       "    .dataframe tbody tr th {\n",
       "        vertical-align: top;\n",
       "    }\n",
       "\n",
       "    .dataframe thead th {\n",
       "        text-align: right;\n",
       "    }\n",
       "</style>\n",
       "<table border=\"1\" class=\"dataframe\">\n",
       "  <thead>\n",
       "    <tr style=\"text-align: right;\">\n",
       "      <th></th>\n",
       "      <th>id</th>\n",
       "      <th>cat</th>\n",
       "      <th>prod</th>\n",
       "    </tr>\n",
       "  </thead>\n",
       "  <tbody>\n",
       "    <tr>\n",
       "      <th>0</th>\n",
       "      <td>1</td>\n",
       "      <td>Bebidas</td>\n",
       "      <td>Água mineral</td>\n",
       "    </tr>\n",
       "    <tr>\n",
       "      <th>1</th>\n",
       "      <td>2</td>\n",
       "      <td>Limpeza</td>\n",
       "      <td>Sabão em pó</td>\n",
       "    </tr>\n",
       "    <tr>\n",
       "      <th>2</th>\n",
       "      <td>3</td>\n",
       "      <td>Frios</td>\n",
       "      <td>Queijo</td>\n",
       "    </tr>\n",
       "    <tr>\n",
       "      <th>3</th>\n",
       "      <td>4</td>\n",
       "      <td>Bebidas</td>\n",
       "      <td>Refrigerante</td>\n",
       "    </tr>\n",
       "    <tr>\n",
       "      <th>4</th>\n",
       "      <td>5</td>\n",
       "      <td>Pet</td>\n",
       "      <td>Ração para cães</td>\n",
       "    </tr>\n",
       "  </tbody>\n",
       "</table>\n",
       "</div>"
      ],
      "text/plain": [
       "  id      cat             prod\n",
       "0  1  Bebidas     Água mineral\n",
       "1  2  Limpeza      Sabão em pó\n",
       "2  3    Frios           Queijo\n",
       "3  4  Bebidas     Refrigerante\n",
       "4  5      Pet  Ração para cães"
      ]
     },
     "execution_count": 8,
     "metadata": {},
     "output_type": "execute_result"
    }
   ],
   "source": [
    "produtos.toPandas()"
   ]
  },
  {
   "cell_type": "code",
   "execution_count": 9,
   "metadata": {},
   "outputs": [
    {
     "data": {
      "text/html": [
       "<div>\n",
       "<style scoped>\n",
       "    .dataframe tbody tr th:only-of-type {\n",
       "        vertical-align: middle;\n",
       "    }\n",
       "\n",
       "    .dataframe tbody tr th {\n",
       "        vertical-align: top;\n",
       "    }\n",
       "\n",
       "    .dataframe thead th {\n",
       "        text-align: right;\n",
       "    }\n",
       "</style>\n",
       "<table border=\"1\" class=\"dataframe\">\n",
       "  <thead>\n",
       "    <tr style=\"text-align: right;\">\n",
       "      <th></th>\n",
       "      <th>cat</th>\n",
       "      <th>tax</th>\n",
       "    </tr>\n",
       "  </thead>\n",
       "  <tbody>\n",
       "    <tr>\n",
       "      <th>0</th>\n",
       "      <td>Bebidas</td>\n",
       "      <td>0.150</td>\n",
       "    </tr>\n",
       "    <tr>\n",
       "      <th>1</th>\n",
       "      <td>Limpeza</td>\n",
       "      <td>0.050</td>\n",
       "    </tr>\n",
       "    <tr>\n",
       "      <th>2</th>\n",
       "      <td>Frios</td>\n",
       "      <td>0.065</td>\n",
       "    </tr>\n",
       "    <tr>\n",
       "      <th>3</th>\n",
       "      <td>Carnes</td>\n",
       "      <td>0.080</td>\n",
       "    </tr>\n",
       "  </tbody>\n",
       "</table>\n",
       "</div>"
      ],
      "text/plain": [
       "       cat    tax\n",
       "0  Bebidas  0.150\n",
       "1  Limpeza  0.050\n",
       "2    Frios  0.065\n",
       "3   Carnes  0.080"
      ]
     },
     "execution_count": 9,
     "metadata": {},
     "output_type": "execute_result"
    }
   ],
   "source": [
    "impostos.toPandas()"
   ]
  },
  {
   "cell_type": "code",
   "execution_count": 10,
   "metadata": {},
   "outputs": [
    {
     "name": "stdout",
     "output_type": "stream",
     "text": [
      "+-------+---+------------+-----+\n",
      "|    cat| id|        prod|  tax|\n",
      "+-------+---+------------+-----+\n",
      "|Bebidas|  1|Água mineral| 0.15|\n",
      "|Limpeza|  2| Sabão em pó| 0.05|\n",
      "|  Frios|  3|      Queijo|0.065|\n",
      "|Bebidas|  4|Refrigerante| 0.15|\n",
      "+-------+---+------------+-----+\n",
      "\n"
     ]
    }
   ],
   "source": [
    "#remove das duas tabelas o que ele não acha ligação\n",
    "produtos.join(impostos, 'cat', how='inner')\\\n",
    ".sort('id').show()"
   ]
  },
  {
   "cell_type": "code",
   "execution_count": 11,
   "metadata": {},
   "outputs": [
    {
     "name": "stdout",
     "output_type": "stream",
     "text": [
      "+-------+---+---------------+-----+\n",
      "|    cat| id|           prod|  tax|\n",
      "+-------+---+---------------+-----+\n",
      "|Bebidas|  1|   Água mineral| 0.15|\n",
      "|Limpeza|  2|    Sabão em pó| 0.05|\n",
      "|  Frios|  3|         Queijo|0.065|\n",
      "|Bebidas|  4|   Refrigerante| 0.15|\n",
      "|    Pet|  5|Ração para cães| NULL|\n",
      "+-------+---+---------------+-----+\n",
      "\n"
     ]
    }
   ],
   "source": [
    "#left remove da segunda tabela\n",
    "\n",
    "produtos.join(impostos, 'cat', how='left').sort('id').show()"
   ]
  },
  {
   "cell_type": "code",
   "execution_count": 12,
   "metadata": {},
   "outputs": [
    {
     "name": "stdout",
     "output_type": "stream",
     "text": [
      "+-------+----+---------------+-----+\n",
      "|    cat|  id|           prod|  tax|\n",
      "+-------+----+---------------+-----+\n",
      "|Bebidas|   1|   Água mineral| 0.15|\n",
      "|Bebidas|   4|   Refrigerante| 0.15|\n",
      "| Carnes|NULL|           NULL| 0.08|\n",
      "|  Frios|   3|         Queijo|0.065|\n",
      "|Limpeza|   2|    Sabão em pó| 0.05|\n",
      "|    Pet|   5|Ração para cães| NULL|\n",
      "+-------+----+---------------+-----+\n",
      "\n"
     ]
    }
   ],
   "source": [
    "#junta todas as colunas das duas tabelas\n",
    "produtos.join(impostos, 'cat', how='outer').show()"
   ]
  },
  {
   "cell_type": "code",
   "execution_count": 15,
   "metadata": {},
   "outputs": [],
   "source": [
    "df = produtos.join(impostos, 'cat', how='right')\\\n",
    "    .sort('id')"
   ]
  },
  {
   "cell_type": "code",
   "execution_count": 16,
   "metadata": {},
   "outputs": [
    {
     "name": "stdout",
     "output_type": "stream",
     "text": [
      "+---------+----+------------+-----+\n",
      "|categoria|  id|        prod|  tax|\n",
      "+---------+----+------------+-----+\n",
      "|   Carnes|NULL|        NULL| 0.08|\n",
      "|  Bebidas|   1|Água mineral| 0.15|\n",
      "|  Limpeza|   2| Sabão em pó| 0.05|\n",
      "|    Frios|   3|      Queijo|0.065|\n",
      "|  Bebidas|   4|Refrigerante| 0.15|\n",
      "+---------+----+------------+-----+\n",
      "\n"
     ]
    }
   ],
   "source": [
    "df.withColumnRenamed('cat', 'categoria').show()"
   ]
  },
  {
   "cell_type": "code",
   "execution_count": null,
   "metadata": {},
   "outputs": [],
   "source": []
  }
 ],
 "metadata": {
  "kernelspec": {
   "display_name": "venv",
   "language": "python",
   "name": "python3"
  },
  "language_info": {
   "codemirror_mode": {
    "name": "ipython",
    "version": 3
   },
   "file_extension": ".py",
   "mimetype": "text/x-python",
   "name": "python",
   "nbconvert_exporter": "python",
   "pygments_lexer": "ipython3",
   "version": "3.11.5"
  },
  "orig_nbformat": 4
 },
 "nbformat": 4,
 "nbformat_minor": 2
}
