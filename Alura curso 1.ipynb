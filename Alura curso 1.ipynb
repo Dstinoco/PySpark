{
 "cells": [
  {
   "cell_type": "code",
   "execution_count": 0,
   "metadata": {
    "application/vnd.databricks.v1+cell": {
     "cellMetadata": {
      "byteLimit": 2048000,
      "rowLimit": 10000
     },
     "inputWidgets": {},
     "nuid": "e90b70e0-4e34-40f0-abab-5bbd456d8331",
     "showTitle": false,
     "title": ""
    }
   },
   "outputs": [],
   "source": [
    "empresas = spark.read.format(\"csv\")\\\n",
    "    .option(\"header\", \"True\")\\\n",
    "        .option(\"inferSchema\", \"True\")\\\n",
    "            .option(\"sep\", \";\")\\\n",
    "            .load(\"FileStore/alura/*.csv\")"
   ]
  },
  {
   "cell_type": "code",
   "execution_count": 0,
   "metadata": {
    "application/vnd.databricks.v1+cell": {
     "cellMetadata": {
      "byteLimit": 2048000,
      "rowLimit": 10000
     },
     "inputWidgets": {},
     "nuid": "f3a2a4c6-fa9f-4777-a234-1d32da88477f",
     "showTitle": false,
     "title": ""
    }
   },
   "outputs": [],
   "source": [
    "socios = spark.read.format('csv')\\\n",
    "    .option(\"header\", \"True\")\\\n",
    "        .option(\"sep\", \";\")\\\n",
    "            .option(\"inferSchema\", \"True\")\\\n",
    "                .load(\"FileStore/socios/*.csv\")"
   ]
  },
  {
   "cell_type": "code",
   "execution_count": 0,
   "metadata": {
    "application/vnd.databricks.v1+cell": {
     "cellMetadata": {
      "byteLimit": 2048000,
      "rowLimit": 10000
     },
     "inputWidgets": {},
     "nuid": "d5ddcd27-594b-40bc-afbb-992e1c56450c",
     "showTitle": false,
     "title": ""
    }
   },
   "outputs": [],
   "source": [
    "estabelecimentos = spark.read.format('csv')\\\n",
    "    .option(\"header\", \"True\")\\\n",
    "        .option(\"sep\", \";\")\\\n",
    "            .option(\"inferSchema\", \"True\")\\\n",
    "                .load(\"FileStore/estabelecimentos/*.csv\")"
   ]
  },
  {
   "cell_type": "code",
   "execution_count": 0,
   "metadata": {
    "application/vnd.databricks.v1+cell": {
     "cellMetadata": {
      "byteLimit": 2048000,
      "rowLimit": 10000
     },
     "inputWidgets": {},
     "nuid": "9e90cb18-2374-4992-a647-5538d3aaae50",
     "showTitle": false,
     "title": ""
    }
   },
   "outputs": [],
   "source": [
    "empresasColNames = ['cnpj_basico', 'razao_social_nome_empresarial', 'natureza_juridica', 'qualificacao_do_responsavel', 'capital_social_da_empresa', 'porte_da_empresa', 'ente_federativo_responsavel']\n",
    "\n",
    "estabsColNames = ['cnpj_basico', 'cnpj_ordem', 'cnpj_dv', 'identificador_matriz_filial', 'nome_fantasia', 'situacao_cadastral', 'data_situacao_cadastral', 'motivo_situacao_cadastral', 'nome_da_cidade_no_exterior', 'pais', 'data_de_inicio_atividade', 'cnae_fiscal_principal', 'cnae_fiscal_secundaria', 'tipo_de_logradouro', 'logradouro', 'numero', 'complemento', 'bairro', 'cep', 'uf', 'municipio', 'ddd_1', 'telefone_1', 'ddd_2', 'telefone_2', 'ddd_do_fax', 'fax', 'correio_eletronico', 'situacao_especial', 'data_da_situacao_especial']\n",
    "\n",
    "\n",
    "sociosColNames = ['cnpj_basico', 'identificador_de_socio', 'nome_do_socio_ou_razao_social', 'cnpj_ou_cpf_do_socio', 'qualificacao_do_socio', 'data_de_entrada_sociedade', 'pais', 'representante_legal', 'nome_do_representante', 'qualificacao_do_representante_legal', 'faixa_etaria']"
   ]
  },
  {
   "cell_type": "code",
   "execution_count": 0,
   "metadata": {
    "application/vnd.databricks.v1+cell": {
     "cellMetadata": {
      "byteLimit": 2048000,
      "rowLimit": 10000
     },
     "inputWidgets": {},
     "nuid": "980fa142-28cc-4be9-98ef-f01765c80d55",
     "showTitle": false,
     "title": ""
    }
   },
   "outputs": [],
   "source": [
    "# no caso de ja existir uma coluna com titulo\n",
    "\"\"\"for index,colName in enumerate(empresasColNames):\n",
    "        empresas = empresas.withColumnRenamed(f\"_c{index}\", colName)\n",
    "\n",
    "empresas.columns\"\"\""
   ]
  },
  {
   "cell_type": "code",
   "execution_count": 0,
   "metadata": {
    "application/vnd.databricks.v1+cell": {
     "cellMetadata": {
      "byteLimit": 2048000,
      "rowLimit": 10000
     },
     "inputWidgets": {},
     "nuid": "1981eb9d-c92b-47f5-a76e-68b809283926",
     "showTitle": false,
     "title": ""
    }
   },
   "outputs": [],
   "source": [
    "empresas = empresas.toDF(*empresasColNames)\n",
    "\n",
    "socios = socios.toDF(*sociosColNames)\n",
    "\n",
    "estabelecimentos = estabelecimentos.toDF(*estabsColNames)\n",
    "\n"
   ]
  },
  {
   "cell_type": "code",
   "execution_count": 0,
   "metadata": {
    "application/vnd.databricks.v1+cell": {
     "cellMetadata": {
      "byteLimit": 2048000,
      "rowLimit": 10000
     },
     "inputWidgets": {},
     "nuid": "4b51f442-e93d-487a-99bf-268a74ae5599",
     "showTitle": false,
     "title": ""
    }
   },
   "outputs": [
    {
     "output_type": "display_data",
     "data": {
      "text/html": [
       "<div>\n",
       "<style scoped>\n",
       "    .dataframe tbody tr th:only-of-type {\n",
       "        vertical-align: middle;\n",
       "    }\n",
       "\n",
       "    .dataframe tbody tr th {\n",
       "        vertical-align: top;\n",
       "    }\n",
       "\n",
       "    .dataframe thead th {\n",
       "        text-align: right;\n",
       "    }\n",
       "</style>\n",
       "<table border=\"1\" class=\"dataframe\">\n",
       "  <thead>\n",
       "    <tr style=\"text-align: right;\">\n",
       "      <th></th>\n",
       "      <th>cnpj_basico</th>\n",
       "      <th>razao_social_nome_empresarial</th>\n",
       "      <th>natureza_juridica</th>\n",
       "      <th>qualificacao_do_responsavel</th>\n",
       "      <th>capital_social_da_empresa</th>\n",
       "      <th>porte_da_empresa</th>\n",
       "      <th>ente_federativo_responsavel</th>\n",
       "    </tr>\n",
       "  </thead>\n",
       "  <tbody>\n",
       "    <tr>\n",
       "      <th>0</th>\n",
       "      <td>1355</td>\n",
       "      <td>BRASILEIRO &amp; OLIVEIRA LTDA</td>\n",
       "      <td>2062</td>\n",
       "      <td>49</td>\n",
       "      <td>0,00</td>\n",
       "      <td>5</td>\n",
       "      <td>None</td>\n",
       "    </tr>\n",
       "    <tr>\n",
       "      <th>1</th>\n",
       "      <td>4820</td>\n",
       "      <td>REGISTRO DE IMOVEIS, TABELIONATO 1 DE NOTAS E ...</td>\n",
       "      <td>3034</td>\n",
       "      <td>32</td>\n",
       "      <td>0,00</td>\n",
       "      <td>5</td>\n",
       "      <td>None</td>\n",
       "    </tr>\n",
       "    <tr>\n",
       "      <th>2</th>\n",
       "      <td>5347</td>\n",
       "      <td>ROSELY APARECIDA MONTEIRO CALTABIANO FREITAS</td>\n",
       "      <td>2135</td>\n",
       "      <td>50</td>\n",
       "      <td>0,00</td>\n",
       "      <td>5</td>\n",
       "      <td>None</td>\n",
       "    </tr>\n",
       "    <tr>\n",
       "      <th>3</th>\n",
       "      <td>6846</td>\n",
       "      <td>BADU E FILHOS TECIDOS LTDA</td>\n",
       "      <td>2062</td>\n",
       "      <td>49</td>\n",
       "      <td>4000,00</td>\n",
       "      <td>1</td>\n",
       "      <td>None</td>\n",
       "    </tr>\n",
       "    <tr>\n",
       "      <th>4</th>\n",
       "      <td>8416</td>\n",
       "      <td>ELETRICA RUBI LTDA</td>\n",
       "      <td>2062</td>\n",
       "      <td>49</td>\n",
       "      <td>0,00</td>\n",
       "      <td>5</td>\n",
       "      <td>None</td>\n",
       "    </tr>\n",
       "  </tbody>\n",
       "</table>\n",
       "</div>"
      ]
     },
     "metadata": {
      "application/vnd.databricks.v1+output": {
       "addedWidgets": {},
       "arguments": {},
       "data": "<div>\n<style scoped>\n    .dataframe tbody tr th:only-of-type {\n        vertical-align: middle;\n    }\n\n    .dataframe tbody tr th {\n        vertical-align: top;\n    }\n\n    .dataframe thead th {\n        text-align: right;\n    }\n</style>\n<table border=\"1\" class=\"dataframe\">\n  <thead>\n    <tr style=\"text-align: right;\">\n      <th></th>\n      <th>cnpj_basico</th>\n      <th>razao_social_nome_empresarial</th>\n      <th>natureza_juridica</th>\n      <th>qualificacao_do_responsavel</th>\n      <th>capital_social_da_empresa</th>\n      <th>porte_da_empresa</th>\n      <th>ente_federativo_responsavel</th>\n    </tr>\n  </thead>\n  <tbody>\n    <tr>\n      <th>0</th>\n      <td>1355</td>\n      <td>BRASILEIRO &amp; OLIVEIRA LTDA</td>\n      <td>2062</td>\n      <td>49</td>\n      <td>0,00</td>\n      <td>5</td>\n      <td>None</td>\n    </tr>\n    <tr>\n      <th>1</th>\n      <td>4820</td>\n      <td>REGISTRO DE IMOVEIS, TABELIONATO 1 DE NOTAS E ...</td>\n      <td>3034</td>\n      <td>32</td>\n      <td>0,00</td>\n      <td>5</td>\n      <td>None</td>\n    </tr>\n    <tr>\n      <th>2</th>\n      <td>5347</td>\n      <td>ROSELY APARECIDA MONTEIRO CALTABIANO FREITAS</td>\n      <td>2135</td>\n      <td>50</td>\n      <td>0,00</td>\n      <td>5</td>\n      <td>None</td>\n    </tr>\n    <tr>\n      <th>3</th>\n      <td>6846</td>\n      <td>BADU E FILHOS TECIDOS LTDA</td>\n      <td>2062</td>\n      <td>49</td>\n      <td>4000,00</td>\n      <td>1</td>\n      <td>None</td>\n    </tr>\n    <tr>\n      <th>4</th>\n      <td>8416</td>\n      <td>ELETRICA RUBI LTDA</td>\n      <td>2062</td>\n      <td>49</td>\n      <td>0,00</td>\n      <td>5</td>\n      <td>None</td>\n    </tr>\n  </tbody>\n</table>\n</div>",
       "datasetInfos": [],
       "metadata": {},
       "removedWidgets": [],
       "textData": null,
       "type": "htmlSandbox"
      }
     },
     "output_type": "display_data"
    }
   ],
   "source": [
    "empresas.limit(5).toPandas()"
   ]
  },
  {
   "cell_type": "code",
   "execution_count": 0,
   "metadata": {
    "application/vnd.databricks.v1+cell": {
     "cellMetadata": {
      "byteLimit": 2048000,
      "rowLimit": 10000
     },
     "inputWidgets": {},
     "nuid": "7e553cd8-1575-411d-a035-a53605799b11",
     "showTitle": false,
     "title": ""
    }
   },
   "outputs": [
    {
     "output_type": "display_data",
     "data": {
      "text/html": [
       "<div>\n",
       "<style scoped>\n",
       "    .dataframe tbody tr th:only-of-type {\n",
       "        vertical-align: middle;\n",
       "    }\n",
       "\n",
       "    .dataframe tbody tr th {\n",
       "        vertical-align: top;\n",
       "    }\n",
       "\n",
       "    .dataframe thead th {\n",
       "        text-align: right;\n",
       "    }\n",
       "</style>\n",
       "<table border=\"1\" class=\"dataframe\">\n",
       "  <thead>\n",
       "    <tr style=\"text-align: right;\">\n",
       "      <th></th>\n",
       "      <th>cnpj_basico</th>\n",
       "      <th>identificador_de_socio</th>\n",
       "      <th>nome_do_socio_ou_razao_social</th>\n",
       "      <th>cnpj_ou_cpf_do_socio</th>\n",
       "      <th>qualificacao_do_socio</th>\n",
       "      <th>data_de_entrada_sociedade</th>\n",
       "      <th>pais</th>\n",
       "      <th>representante_legal</th>\n",
       "      <th>nome_do_representante</th>\n",
       "      <th>qualificacao_do_representante_legal</th>\n",
       "      <th>faixa_etaria</th>\n",
       "    </tr>\n",
       "  </thead>\n",
       "  <tbody>\n",
       "    <tr>\n",
       "      <th>0</th>\n",
       "      <td>411</td>\n",
       "      <td>2</td>\n",
       "      <td>CRISTINA HUNDERTMARK</td>\n",
       "      <td>***637848**</td>\n",
       "      <td>28</td>\n",
       "      <td>19940725</td>\n",
       "      <td>NaN</td>\n",
       "      <td>***000000**</td>\n",
       "      <td>None</td>\n",
       "      <td>0</td>\n",
       "      <td>7</td>\n",
       "    </tr>\n",
       "    <tr>\n",
       "      <th>1</th>\n",
       "      <td>5813</td>\n",
       "      <td>2</td>\n",
       "      <td>CELSO EDUARDO DE CASTRO STEPHAN</td>\n",
       "      <td>***786068**</td>\n",
       "      <td>49</td>\n",
       "      <td>19940516</td>\n",
       "      <td>NaN</td>\n",
       "      <td>***000000**</td>\n",
       "      <td>None</td>\n",
       "      <td>0</td>\n",
       "      <td>8</td>\n",
       "    </tr>\n",
       "    <tr>\n",
       "      <th>2</th>\n",
       "      <td>5813</td>\n",
       "      <td>2</td>\n",
       "      <td>EDUARDO BERRINGER STEPHAN</td>\n",
       "      <td>***442348**</td>\n",
       "      <td>49</td>\n",
       "      <td>19940516</td>\n",
       "      <td>NaN</td>\n",
       "      <td>***000000**</td>\n",
       "      <td>None</td>\n",
       "      <td>0</td>\n",
       "      <td>5</td>\n",
       "    </tr>\n",
       "    <tr>\n",
       "      <th>3</th>\n",
       "      <td>14798</td>\n",
       "      <td>2</td>\n",
       "      <td>HANNE MAHFOUD FADEL</td>\n",
       "      <td>***760388**</td>\n",
       "      <td>49</td>\n",
       "      <td>19940609</td>\n",
       "      <td>NaN</td>\n",
       "      <td>***000000**</td>\n",
       "      <td>None</td>\n",
       "      <td>0</td>\n",
       "      <td>8</td>\n",
       "    </tr>\n",
       "    <tr>\n",
       "      <th>4</th>\n",
       "      <td>14798</td>\n",
       "      <td>2</td>\n",
       "      <td>CLOD ASSAD FADEL</td>\n",
       "      <td>***205668**</td>\n",
       "      <td>22</td>\n",
       "      <td>19940609</td>\n",
       "      <td>NaN</td>\n",
       "      <td>***000000**</td>\n",
       "      <td>None</td>\n",
       "      <td>0</td>\n",
       "      <td>6</td>\n",
       "    </tr>\n",
       "  </tbody>\n",
       "</table>\n",
       "</div>"
      ]
     },
     "metadata": {
      "application/vnd.databricks.v1+output": {
       "addedWidgets": {},
       "arguments": {},
       "data": "<div>\n<style scoped>\n    .dataframe tbody tr th:only-of-type {\n        vertical-align: middle;\n    }\n\n    .dataframe tbody tr th {\n        vertical-align: top;\n    }\n\n    .dataframe thead th {\n        text-align: right;\n    }\n</style>\n<table border=\"1\" class=\"dataframe\">\n  <thead>\n    <tr style=\"text-align: right;\">\n      <th></th>\n      <th>cnpj_basico</th>\n      <th>identificador_de_socio</th>\n      <th>nome_do_socio_ou_razao_social</th>\n      <th>cnpj_ou_cpf_do_socio</th>\n      <th>qualificacao_do_socio</th>\n      <th>data_de_entrada_sociedade</th>\n      <th>pais</th>\n      <th>representante_legal</th>\n      <th>nome_do_representante</th>\n      <th>qualificacao_do_representante_legal</th>\n      <th>faixa_etaria</th>\n    </tr>\n  </thead>\n  <tbody>\n    <tr>\n      <th>0</th>\n      <td>411</td>\n      <td>2</td>\n      <td>CRISTINA HUNDERTMARK</td>\n      <td>***637848**</td>\n      <td>28</td>\n      <td>19940725</td>\n      <td>NaN</td>\n      <td>***000000**</td>\n      <td>None</td>\n      <td>0</td>\n      <td>7</td>\n    </tr>\n    <tr>\n      <th>1</th>\n      <td>5813</td>\n      <td>2</td>\n      <td>CELSO EDUARDO DE CASTRO STEPHAN</td>\n      <td>***786068**</td>\n      <td>49</td>\n      <td>19940516</td>\n      <td>NaN</td>\n      <td>***000000**</td>\n      <td>None</td>\n      <td>0</td>\n      <td>8</td>\n    </tr>\n    <tr>\n      <th>2</th>\n      <td>5813</td>\n      <td>2</td>\n      <td>EDUARDO BERRINGER STEPHAN</td>\n      <td>***442348**</td>\n      <td>49</td>\n      <td>19940516</td>\n      <td>NaN</td>\n      <td>***000000**</td>\n      <td>None</td>\n      <td>0</td>\n      <td>5</td>\n    </tr>\n    <tr>\n      <th>3</th>\n      <td>14798</td>\n      <td>2</td>\n      <td>HANNE MAHFOUD FADEL</td>\n      <td>***760388**</td>\n      <td>49</td>\n      <td>19940609</td>\n      <td>NaN</td>\n      <td>***000000**</td>\n      <td>None</td>\n      <td>0</td>\n      <td>8</td>\n    </tr>\n    <tr>\n      <th>4</th>\n      <td>14798</td>\n      <td>2</td>\n      <td>CLOD ASSAD FADEL</td>\n      <td>***205668**</td>\n      <td>22</td>\n      <td>19940609</td>\n      <td>NaN</td>\n      <td>***000000**</td>\n      <td>None</td>\n      <td>0</td>\n      <td>6</td>\n    </tr>\n  </tbody>\n</table>\n</div>",
       "datasetInfos": [],
       "metadata": {},
       "removedWidgets": [],
       "textData": null,
       "type": "htmlSandbox"
      }
     },
     "output_type": "display_data"
    }
   ],
   "source": [
    "socios.limit(5).toPandas()"
   ]
  },
  {
   "cell_type": "code",
   "execution_count": 0,
   "metadata": {
    "application/vnd.databricks.v1+cell": {
     "cellMetadata": {
      "byteLimit": 2048000,
      "rowLimit": 10000
     },
     "inputWidgets": {},
     "nuid": "df206e7d-e977-40f4-8a9d-087c181b160c",
     "showTitle": false,
     "title": ""
    }
   },
   "outputs": [
    {
     "output_type": "display_data",
     "data": {
      "text/html": [
       "<div>\n",
       "<style scoped>\n",
       "    .dataframe tbody tr th:only-of-type {\n",
       "        vertical-align: middle;\n",
       "    }\n",
       "\n",
       "    .dataframe tbody tr th {\n",
       "        vertical-align: top;\n",
       "    }\n",
       "\n",
       "    .dataframe thead th {\n",
       "        text-align: right;\n",
       "    }\n",
       "</style>\n",
       "<table border=\"1\" class=\"dataframe\">\n",
       "  <thead>\n",
       "    <tr style=\"text-align: right;\">\n",
       "      <th></th>\n",
       "      <th>cnpj_basico</th>\n",
       "      <th>cnpj_ordem</th>\n",
       "      <th>cnpj_dv</th>\n",
       "      <th>identificador_matriz_filial</th>\n",
       "      <th>nome_fantasia</th>\n",
       "      <th>situacao_cadastral</th>\n",
       "      <th>data_situacao_cadastral</th>\n",
       "      <th>motivo_situacao_cadastral</th>\n",
       "      <th>nome_da_cidade_no_exterior</th>\n",
       "      <th>pais</th>\n",
       "      <th>...</th>\n",
       "      <th>municipio</th>\n",
       "      <th>ddd_1</th>\n",
       "      <th>telefone_1</th>\n",
       "      <th>ddd_2</th>\n",
       "      <th>telefone_2</th>\n",
       "      <th>ddd_do_fax</th>\n",
       "      <th>fax</th>\n",
       "      <th>correio_eletronico</th>\n",
       "      <th>situacao_especial</th>\n",
       "      <th>data_da_situacao_especial</th>\n",
       "    </tr>\n",
       "  </thead>\n",
       "  <tbody>\n",
       "    <tr>\n",
       "      <th>0</th>\n",
       "      <td>8638</td>\n",
       "      <td>1</td>\n",
       "      <td>79</td>\n",
       "      <td>1</td>\n",
       "      <td>AGROPECUARIA FAGUNDES</td>\n",
       "      <td>8</td>\n",
       "      <td>20150209</td>\n",
       "      <td>73</td>\n",
       "      <td>None</td>\n",
       "      <td>NaN</td>\n",
       "      <td>...</td>\n",
       "      <td>7255</td>\n",
       "      <td>NaN</td>\n",
       "      <td>None</td>\n",
       "      <td>NaN</td>\n",
       "      <td>None</td>\n",
       "      <td>NaN</td>\n",
       "      <td>None</td>\n",
       "      <td>None</td>\n",
       "      <td>None</td>\n",
       "      <td>None</td>\n",
       "    </tr>\n",
       "    <tr>\n",
       "      <th>1</th>\n",
       "      <td>11748</td>\n",
       "      <td>1</td>\n",
       "      <td>90</td>\n",
       "      <td>1</td>\n",
       "      <td>None</td>\n",
       "      <td>4</td>\n",
       "      <td>20181219</td>\n",
       "      <td>63</td>\n",
       "      <td>None</td>\n",
       "      <td>NaN</td>\n",
       "      <td>...</td>\n",
       "      <td>7097</td>\n",
       "      <td>NaN</td>\n",
       "      <td>None</td>\n",
       "      <td>NaN</td>\n",
       "      <td>None</td>\n",
       "      <td>NaN</td>\n",
       "      <td>None</td>\n",
       "      <td>None</td>\n",
       "      <td>None</td>\n",
       "      <td>None</td>\n",
       "    </tr>\n",
       "    <tr>\n",
       "      <th>2</th>\n",
       "      <td>12027</td>\n",
       "      <td>1</td>\n",
       "      <td>2</td>\n",
       "      <td>1</td>\n",
       "      <td>None</td>\n",
       "      <td>8</td>\n",
       "      <td>20081231</td>\n",
       "      <td>71</td>\n",
       "      <td>None</td>\n",
       "      <td>NaN</td>\n",
       "      <td>...</td>\n",
       "      <td>7107</td>\n",
       "      <td>NaN</td>\n",
       "      <td>None</td>\n",
       "      <td>NaN</td>\n",
       "      <td>None</td>\n",
       "      <td>NaN</td>\n",
       "      <td>None</td>\n",
       "      <td>None</td>\n",
       "      <td>None</td>\n",
       "      <td>None</td>\n",
       "    </tr>\n",
       "    <tr>\n",
       "      <th>3</th>\n",
       "      <td>13289</td>\n",
       "      <td>1</td>\n",
       "      <td>83</td>\n",
       "      <td>1</td>\n",
       "      <td>JS MATERIAIS DE CONSTRUCAO</td>\n",
       "      <td>2</td>\n",
       "      <td>20040123</td>\n",
       "      <td>0</td>\n",
       "      <td>None</td>\n",
       "      <td>NaN</td>\n",
       "      <td>...</td>\n",
       "      <td>6915</td>\n",
       "      <td>19.0</td>\n",
       "      <td>35811286</td>\n",
       "      <td>NaN</td>\n",
       "      <td>None</td>\n",
       "      <td>NaN</td>\n",
       "      <td>None</td>\n",
       "      <td>CONTATO@LEONECONTABIL.COM.BR</td>\n",
       "      <td>None</td>\n",
       "      <td>None</td>\n",
       "    </tr>\n",
       "    <tr>\n",
       "      <th>4</th>\n",
       "      <td>13623</td>\n",
       "      <td>1</td>\n",
       "      <td>7</td>\n",
       "      <td>1</td>\n",
       "      <td>MARISTELA INDUSTRIA E COMERCIO DE SORVETES</td>\n",
       "      <td>8</td>\n",
       "      <td>20081231</td>\n",
       "      <td>71</td>\n",
       "      <td>None</td>\n",
       "      <td>NaN</td>\n",
       "      <td>...</td>\n",
       "      <td>9701</td>\n",
       "      <td>NaN</td>\n",
       "      <td>None</td>\n",
       "      <td>NaN</td>\n",
       "      <td>None</td>\n",
       "      <td>NaN</td>\n",
       "      <td>None</td>\n",
       "      <td>None</td>\n",
       "      <td>None</td>\n",
       "      <td>None</td>\n",
       "    </tr>\n",
       "  </tbody>\n",
       "</table>\n",
       "<p>5 rows × 30 columns</p>\n",
       "</div>"
      ]
     },
     "metadata": {
      "application/vnd.databricks.v1+output": {
       "addedWidgets": {},
       "arguments": {},
       "data": "<div>\n<style scoped>\n    .dataframe tbody tr th:only-of-type {\n        vertical-align: middle;\n    }\n\n    .dataframe tbody tr th {\n        vertical-align: top;\n    }\n\n    .dataframe thead th {\n        text-align: right;\n    }\n</style>\n<table border=\"1\" class=\"dataframe\">\n  <thead>\n    <tr style=\"text-align: right;\">\n      <th></th>\n      <th>cnpj_basico</th>\n      <th>cnpj_ordem</th>\n      <th>cnpj_dv</th>\n      <th>identificador_matriz_filial</th>\n      <th>nome_fantasia</th>\n      <th>situacao_cadastral</th>\n      <th>data_situacao_cadastral</th>\n      <th>motivo_situacao_cadastral</th>\n      <th>nome_da_cidade_no_exterior</th>\n      <th>pais</th>\n      <th>...</th>\n      <th>municipio</th>\n      <th>ddd_1</th>\n      <th>telefone_1</th>\n      <th>ddd_2</th>\n      <th>telefone_2</th>\n      <th>ddd_do_fax</th>\n      <th>fax</th>\n      <th>correio_eletronico</th>\n      <th>situacao_especial</th>\n      <th>data_da_situacao_especial</th>\n    </tr>\n  </thead>\n  <tbody>\n    <tr>\n      <th>0</th>\n      <td>8638</td>\n      <td>1</td>\n      <td>79</td>\n      <td>1</td>\n      <td>AGROPECUARIA FAGUNDES</td>\n      <td>8</td>\n      <td>20150209</td>\n      <td>73</td>\n      <td>None</td>\n      <td>NaN</td>\n      <td>...</td>\n      <td>7255</td>\n      <td>NaN</td>\n      <td>None</td>\n      <td>NaN</td>\n      <td>None</td>\n      <td>NaN</td>\n      <td>None</td>\n      <td>None</td>\n      <td>None</td>\n      <td>None</td>\n    </tr>\n    <tr>\n      <th>1</th>\n      <td>11748</td>\n      <td>1</td>\n      <td>90</td>\n      <td>1</td>\n      <td>None</td>\n      <td>4</td>\n      <td>20181219</td>\n      <td>63</td>\n      <td>None</td>\n      <td>NaN</td>\n      <td>...</td>\n      <td>7097</td>\n      <td>NaN</td>\n      <td>None</td>\n      <td>NaN</td>\n      <td>None</td>\n      <td>NaN</td>\n      <td>None</td>\n      <td>None</td>\n      <td>None</td>\n      <td>None</td>\n    </tr>\n    <tr>\n      <th>2</th>\n      <td>12027</td>\n      <td>1</td>\n      <td>2</td>\n      <td>1</td>\n      <td>None</td>\n      <td>8</td>\n      <td>20081231</td>\n      <td>71</td>\n      <td>None</td>\n      <td>NaN</td>\n      <td>...</td>\n      <td>7107</td>\n      <td>NaN</td>\n      <td>None</td>\n      <td>NaN</td>\n      <td>None</td>\n      <td>NaN</td>\n      <td>None</td>\n      <td>None</td>\n      <td>None</td>\n      <td>None</td>\n    </tr>\n    <tr>\n      <th>3</th>\n      <td>13289</td>\n      <td>1</td>\n      <td>83</td>\n      <td>1</td>\n      <td>JS MATERIAIS DE CONSTRUCAO</td>\n      <td>2</td>\n      <td>20040123</td>\n      <td>0</td>\n      <td>None</td>\n      <td>NaN</td>\n      <td>...</td>\n      <td>6915</td>\n      <td>19.0</td>\n      <td>35811286</td>\n      <td>NaN</td>\n      <td>None</td>\n      <td>NaN</td>\n      <td>None</td>\n      <td>CONTATO@LEONECONTABIL.COM.BR</td>\n      <td>None</td>\n      <td>None</td>\n    </tr>\n    <tr>\n      <th>4</th>\n      <td>13623</td>\n      <td>1</td>\n      <td>7</td>\n      <td>1</td>\n      <td>MARISTELA INDUSTRIA E COMERCIO DE SORVETES</td>\n      <td>8</td>\n      <td>20081231</td>\n      <td>71</td>\n      <td>None</td>\n      <td>NaN</td>\n      <td>...</td>\n      <td>9701</td>\n      <td>NaN</td>\n      <td>None</td>\n      <td>NaN</td>\n      <td>None</td>\n      <td>NaN</td>\n      <td>None</td>\n      <td>None</td>\n      <td>None</td>\n      <td>None</td>\n    </tr>\n  </tbody>\n</table>\n<p>5 rows × 30 columns</p>\n</div>",
       "datasetInfos": [],
       "metadata": {},
       "removedWidgets": [],
       "textData": null,
       "type": "htmlSandbox"
      }
     },
     "output_type": "display_data"
    }
   ],
   "source": [
    "estabelecimentos.limit(5).toPandas()"
   ]
  },
  {
   "cell_type": "code",
   "execution_count": 0,
   "metadata": {
    "application/vnd.databricks.v1+cell": {
     "cellMetadata": {
      "byteLimit": 2048000,
      "rowLimit": 10000
     },
     "inputWidgets": {},
     "nuid": "799eed20-ab46-44a1-aa20-18242a730430",
     "showTitle": false,
     "title": ""
    }
   },
   "outputs": [],
   "source": [
    "from pyspark.sql.types import DoubleType, StringType\n",
    "from pyspark.sql import functions as f"
   ]
  },
  {
   "cell_type": "code",
   "execution_count": 0,
   "metadata": {
    "application/vnd.databricks.v1+cell": {
     "cellMetadata": {
      "byteLimit": 2048000,
      "rowLimit": 10000
     },
     "inputWidgets": {},
     "nuid": "18659890-2ad6-481d-b045-cd2200e93f93",
     "showTitle": false,
     "title": ""
    }
   },
   "outputs": [],
   "source": [
    "empresas = empresas.withColumn('capital_social_da_empresa', f.regexp_replace(\"capital_social_da_empresa\", ',', '.'))\n",
    "empresas = empresas.withColumn('capital_social_da_empresa', empresas['capital_social_da_empresa'].cast(DoubleType()))"
   ]
  },
  {
   "cell_type": "code",
   "execution_count": 0,
   "metadata": {
    "application/vnd.databricks.v1+cell": {
     "cellMetadata": {
      "byteLimit": 2048000,
      "rowLimit": 10000
     },
     "inputWidgets": {},
     "nuid": "79f85c11-ec7c-4c63-beec-61c640ae8b3e",
     "showTitle": false,
     "title": ""
    }
   },
   "outputs": [
    {
     "output_type": "stream",
     "name": "stdout",
     "output_type": "stream",
     "text": [
      "root\n |-- cnpj_basico: integer (nullable = true)\n |-- razao_social_nome_empresarial: string (nullable = true)\n |-- natureza_juridica: integer (nullable = true)\n |-- qualificacao_do_responsavel: integer (nullable = true)\n |-- capital_social_da_empresa: double (nullable = true)\n |-- porte_da_empresa: integer (nullable = true)\n |-- ente_federativo_responsavel: string (nullable = true)\n\n"
     ]
    }
   ],
   "source": [
    "empresas.printSchema()"
   ]
  },
  {
   "cell_type": "code",
   "execution_count": 0,
   "metadata": {
    "application/vnd.databricks.v1+cell": {
     "cellMetadata": {
      "byteLimit": 2048000,
      "rowLimit": 10000
     },
     "inputWidgets": {},
     "nuid": "a6d8662a-b86d-49c3-a518-fcfd83f75420",
     "showTitle": false,
     "title": ""
    }
   },
   "outputs": [
    {
     "output_type": "stream",
     "name": "stdout",
     "output_type": "stream",
     "text": [
      "root\n |-- cnpj_basico: integer (nullable = true)\n |-- cnpj_ordem: integer (nullable = true)\n |-- cnpj_dv: integer (nullable = true)\n |-- identificador_matriz_filial: integer (nullable = true)\n |-- nome_fantasia: string (nullable = true)\n |-- situacao_cadastral: integer (nullable = true)\n |-- data_situacao_cadastral: date (nullable = true)\n |-- motivo_situacao_cadastral: integer (nullable = true)\n |-- nome_da_cidade_no_exterior: string (nullable = true)\n |-- pais: integer (nullable = true)\n |-- data_de_inicio_atividade: date (nullable = true)\n |-- cnae_fiscal_principal: integer (nullable = true)\n |-- cnae_fiscal_secundaria: string (nullable = true)\n |-- tipo_de_logradouro: string (nullable = true)\n |-- logradouro: string (nullable = true)\n |-- numero: string (nullable = true)\n |-- complemento: string (nullable = true)\n |-- bairro: string (nullable = true)\n |-- cep: integer (nullable = true)\n |-- uf: string (nullable = true)\n |-- municipio: integer (nullable = true)\n |-- ddd_1: string (nullable = true)\n |-- telefone_1: string (nullable = true)\n |-- ddd_2: string (nullable = true)\n |-- telefone_2: string (nullable = true)\n |-- ddd_do_fax: integer (nullable = true)\n |-- fax: string (nullable = true)\n |-- correio_eletronico: string (nullable = true)\n |-- situacao_especial: string (nullable = true)\n |-- data_da_situacao_especial: date (nullable = true)\n\n"
     ]
    }
   ],
   "source": [
    "estabelecimentos = estabelecimentos\\\n",
    "    .withColumn('data_situacao_cadastral',\n",
    "                f.to_date(estabelecimentos.data_situacao_cadastral.cast(StringType()), 'yyyyMMdd')\n",
    "    )\\\n",
    "    .withColumn(\"data_da_situacao_especial\",\n",
    "               f.to_date(estabelecimentos.data_da_situacao_especial.cast(StringType()), 'yyyyMMdd')\n",
    "    )\\\n",
    "    .withColumn(\"data_de_inicio_atividade\",\n",
    "                f.to_date(estabelecimentos.data_de_inicio_atividade.cast(StringType()), 'yyyyMMdd') \n",
    "    )        \n",
    "\n",
    "\n",
    "\n",
    "estabelecimentos.printSchema()"
   ]
  },
  {
   "cell_type": "code",
   "execution_count": 0,
   "metadata": {
    "application/vnd.databricks.v1+cell": {
     "cellMetadata": {
      "byteLimit": 2048000,
      "rowLimit": 10000
     },
     "inputWidgets": {},
     "nuid": "741a6652-f86b-4d49-bcca-c8a0fd9ef873",
     "showTitle": false,
     "title": ""
    }
   },
   "outputs": [
    {
     "output_type": "display_data",
     "data": {
      "text/html": [
       "<div>\n",
       "<style scoped>\n",
       "    .dataframe tbody tr th:only-of-type {\n",
       "        vertical-align: middle;\n",
       "    }\n",
       "\n",
       "    .dataframe tbody tr th {\n",
       "        vertical-align: top;\n",
       "    }\n",
       "\n",
       "    .dataframe thead th {\n",
       "        text-align: right;\n",
       "    }\n",
       "</style>\n",
       "<table border=\"1\" class=\"dataframe\">\n",
       "  <thead>\n",
       "    <tr style=\"text-align: right;\">\n",
       "      <th></th>\n",
       "      <th>cnpj_basico</th>\n",
       "      <th>identificador_de_socio</th>\n",
       "      <th>nome_do_socio_ou_razao_social</th>\n",
       "      <th>cnpj_ou_cpf_do_socio</th>\n",
       "      <th>qualificacao_do_socio</th>\n",
       "      <th>data_de_entrada_sociedade</th>\n",
       "      <th>pais</th>\n",
       "      <th>representante_legal</th>\n",
       "      <th>nome_do_representante</th>\n",
       "      <th>qualificacao_do_representante_legal</th>\n",
       "      <th>faixa_etaria</th>\n",
       "    </tr>\n",
       "  </thead>\n",
       "  <tbody>\n",
       "    <tr>\n",
       "      <th>0</th>\n",
       "      <td>411</td>\n",
       "      <td>2</td>\n",
       "      <td>CRISTINA HUNDERTMARK</td>\n",
       "      <td>***637848**</td>\n",
       "      <td>28</td>\n",
       "      <td>1994-07-25</td>\n",
       "      <td>NaN</td>\n",
       "      <td>***000000**</td>\n",
       "      <td>None</td>\n",
       "      <td>0</td>\n",
       "      <td>7</td>\n",
       "    </tr>\n",
       "    <tr>\n",
       "      <th>1</th>\n",
       "      <td>5813</td>\n",
       "      <td>2</td>\n",
       "      <td>CELSO EDUARDO DE CASTRO STEPHAN</td>\n",
       "      <td>***786068**</td>\n",
       "      <td>49</td>\n",
       "      <td>1994-05-16</td>\n",
       "      <td>NaN</td>\n",
       "      <td>***000000**</td>\n",
       "      <td>None</td>\n",
       "      <td>0</td>\n",
       "      <td>8</td>\n",
       "    </tr>\n",
       "    <tr>\n",
       "      <th>2</th>\n",
       "      <td>5813</td>\n",
       "      <td>2</td>\n",
       "      <td>EDUARDO BERRINGER STEPHAN</td>\n",
       "      <td>***442348**</td>\n",
       "      <td>49</td>\n",
       "      <td>1994-05-16</td>\n",
       "      <td>NaN</td>\n",
       "      <td>***000000**</td>\n",
       "      <td>None</td>\n",
       "      <td>0</td>\n",
       "      <td>5</td>\n",
       "    </tr>\n",
       "    <tr>\n",
       "      <th>3</th>\n",
       "      <td>14798</td>\n",
       "      <td>2</td>\n",
       "      <td>HANNE MAHFOUD FADEL</td>\n",
       "      <td>***760388**</td>\n",
       "      <td>49</td>\n",
       "      <td>1994-06-09</td>\n",
       "      <td>NaN</td>\n",
       "      <td>***000000**</td>\n",
       "      <td>None</td>\n",
       "      <td>0</td>\n",
       "      <td>8</td>\n",
       "    </tr>\n",
       "    <tr>\n",
       "      <th>4</th>\n",
       "      <td>14798</td>\n",
       "      <td>2</td>\n",
       "      <td>CLOD ASSAD FADEL</td>\n",
       "      <td>***205668**</td>\n",
       "      <td>22</td>\n",
       "      <td>1994-06-09</td>\n",
       "      <td>NaN</td>\n",
       "      <td>***000000**</td>\n",
       "      <td>None</td>\n",
       "      <td>0</td>\n",
       "      <td>6</td>\n",
       "    </tr>\n",
       "    <tr>\n",
       "      <th>5</th>\n",
       "      <td>17826</td>\n",
       "      <td>2</td>\n",
       "      <td>WALKYRIA ALGARVES</td>\n",
       "      <td>***689078**</td>\n",
       "      <td>49</td>\n",
       "      <td>1997-02-27</td>\n",
       "      <td>NaN</td>\n",
       "      <td>***000000**</td>\n",
       "      <td>None</td>\n",
       "      <td>0</td>\n",
       "      <td>7</td>\n",
       "    </tr>\n",
       "    <tr>\n",
       "      <th>6</th>\n",
       "      <td>17826</td>\n",
       "      <td>2</td>\n",
       "      <td>SEBASTIAO JADIR TEIXEIRA NUNES</td>\n",
       "      <td>***904728**</td>\n",
       "      <td>49</td>\n",
       "      <td>2009-08-13</td>\n",
       "      <td>NaN</td>\n",
       "      <td>***000000**</td>\n",
       "      <td>None</td>\n",
       "      <td>0</td>\n",
       "      <td>5</td>\n",
       "    </tr>\n",
       "    <tr>\n",
       "      <th>7</th>\n",
       "      <td>19491</td>\n",
       "      <td>2</td>\n",
       "      <td>JOSE JOAO ADAMO</td>\n",
       "      <td>***235698**</td>\n",
       "      <td>49</td>\n",
       "      <td>1994-06-15</td>\n",
       "      <td>NaN</td>\n",
       "      <td>***000000**</td>\n",
       "      <td>None</td>\n",
       "      <td>0</td>\n",
       "      <td>7</td>\n",
       "    </tr>\n",
       "    <tr>\n",
       "      <th>8</th>\n",
       "      <td>19491</td>\n",
       "      <td>2</td>\n",
       "      <td>ROSEMARY CANTUARIA AFONSO ADAMO</td>\n",
       "      <td>***959818**</td>\n",
       "      <td>49</td>\n",
       "      <td>1994-06-15</td>\n",
       "      <td>NaN</td>\n",
       "      <td>***000000**</td>\n",
       "      <td>None</td>\n",
       "      <td>0</td>\n",
       "      <td>6</td>\n",
       "    </tr>\n",
       "    <tr>\n",
       "      <th>9</th>\n",
       "      <td>27848</td>\n",
       "      <td>2</td>\n",
       "      <td>MARCOS AURELIO MOTTA</td>\n",
       "      <td>***262857**</td>\n",
       "      <td>49</td>\n",
       "      <td>1994-07-18</td>\n",
       "      <td>NaN</td>\n",
       "      <td>***000000**</td>\n",
       "      <td>None</td>\n",
       "      <td>0</td>\n",
       "      <td>7</td>\n",
       "    </tr>\n",
       "  </tbody>\n",
       "</table>\n",
       "</div>"
      ]
     },
     "metadata": {
      "application/vnd.databricks.v1+output": {
       "addedWidgets": {},
       "arguments": {},
       "data": "<div>\n<style scoped>\n    .dataframe tbody tr th:only-of-type {\n        vertical-align: middle;\n    }\n\n    .dataframe tbody tr th {\n        vertical-align: top;\n    }\n\n    .dataframe thead th {\n        text-align: right;\n    }\n</style>\n<table border=\"1\" class=\"dataframe\">\n  <thead>\n    <tr style=\"text-align: right;\">\n      <th></th>\n      <th>cnpj_basico</th>\n      <th>identificador_de_socio</th>\n      <th>nome_do_socio_ou_razao_social</th>\n      <th>cnpj_ou_cpf_do_socio</th>\n      <th>qualificacao_do_socio</th>\n      <th>data_de_entrada_sociedade</th>\n      <th>pais</th>\n      <th>representante_legal</th>\n      <th>nome_do_representante</th>\n      <th>qualificacao_do_representante_legal</th>\n      <th>faixa_etaria</th>\n    </tr>\n  </thead>\n  <tbody>\n    <tr>\n      <th>0</th>\n      <td>411</td>\n      <td>2</td>\n      <td>CRISTINA HUNDERTMARK</td>\n      <td>***637848**</td>\n      <td>28</td>\n      <td>1994-07-25</td>\n      <td>NaN</td>\n      <td>***000000**</td>\n      <td>None</td>\n      <td>0</td>\n      <td>7</td>\n    </tr>\n    <tr>\n      <th>1</th>\n      <td>5813</td>\n      <td>2</td>\n      <td>CELSO EDUARDO DE CASTRO STEPHAN</td>\n      <td>***786068**</td>\n      <td>49</td>\n      <td>1994-05-16</td>\n      <td>NaN</td>\n      <td>***000000**</td>\n      <td>None</td>\n      <td>0</td>\n      <td>8</td>\n    </tr>\n    <tr>\n      <th>2</th>\n      <td>5813</td>\n      <td>2</td>\n      <td>EDUARDO BERRINGER STEPHAN</td>\n      <td>***442348**</td>\n      <td>49</td>\n      <td>1994-05-16</td>\n      <td>NaN</td>\n      <td>***000000**</td>\n      <td>None</td>\n      <td>0</td>\n      <td>5</td>\n    </tr>\n    <tr>\n      <th>3</th>\n      <td>14798</td>\n      <td>2</td>\n      <td>HANNE MAHFOUD FADEL</td>\n      <td>***760388**</td>\n      <td>49</td>\n      <td>1994-06-09</td>\n      <td>NaN</td>\n      <td>***000000**</td>\n      <td>None</td>\n      <td>0</td>\n      <td>8</td>\n    </tr>\n    <tr>\n      <th>4</th>\n      <td>14798</td>\n      <td>2</td>\n      <td>CLOD ASSAD FADEL</td>\n      <td>***205668**</td>\n      <td>22</td>\n      <td>1994-06-09</td>\n      <td>NaN</td>\n      <td>***000000**</td>\n      <td>None</td>\n      <td>0</td>\n      <td>6</td>\n    </tr>\n    <tr>\n      <th>5</th>\n      <td>17826</td>\n      <td>2</td>\n      <td>WALKYRIA ALGARVES</td>\n      <td>***689078**</td>\n      <td>49</td>\n      <td>1997-02-27</td>\n      <td>NaN</td>\n      <td>***000000**</td>\n      <td>None</td>\n      <td>0</td>\n      <td>7</td>\n    </tr>\n    <tr>\n      <th>6</th>\n      <td>17826</td>\n      <td>2</td>\n      <td>SEBASTIAO JADIR TEIXEIRA NUNES</td>\n      <td>***904728**</td>\n      <td>49</td>\n      <td>2009-08-13</td>\n      <td>NaN</td>\n      <td>***000000**</td>\n      <td>None</td>\n      <td>0</td>\n      <td>5</td>\n    </tr>\n    <tr>\n      <th>7</th>\n      <td>19491</td>\n      <td>2</td>\n      <td>JOSE JOAO ADAMO</td>\n      <td>***235698**</td>\n      <td>49</td>\n      <td>1994-06-15</td>\n      <td>NaN</td>\n      <td>***000000**</td>\n      <td>None</td>\n      <td>0</td>\n      <td>7</td>\n    </tr>\n    <tr>\n      <th>8</th>\n      <td>19491</td>\n      <td>2</td>\n      <td>ROSEMARY CANTUARIA AFONSO ADAMO</td>\n      <td>***959818**</td>\n      <td>49</td>\n      <td>1994-06-15</td>\n      <td>NaN</td>\n      <td>***000000**</td>\n      <td>None</td>\n      <td>0</td>\n      <td>6</td>\n    </tr>\n    <tr>\n      <th>9</th>\n      <td>27848</td>\n      <td>2</td>\n      <td>MARCOS AURELIO MOTTA</td>\n      <td>***262857**</td>\n      <td>49</td>\n      <td>1994-07-18</td>\n      <td>NaN</td>\n      <td>***000000**</td>\n      <td>None</td>\n      <td>0</td>\n      <td>7</td>\n    </tr>\n  </tbody>\n</table>\n</div>",
       "datasetInfos": [],
       "metadata": {},
       "removedWidgets": [],
       "textData": null,
       "type": "htmlSandbox"
      }
     },
     "output_type": "display_data"
    }
   ],
   "source": [
    "socios = socios.withColumn('data_de_entrada_sociedade', f.to_date(socios.data_de_entrada_sociedade.cast(StringType()), 'yyyyMMdd') )\n",
    "socios.limit(10).toPandas()"
   ]
  },
  {
   "cell_type": "code",
   "execution_count": 0,
   "metadata": {
    "application/vnd.databricks.v1+cell": {
     "cellMetadata": {
      "byteLimit": 2048000,
      "rowLimit": 10000
     },
     "inputWidgets": {},
     "nuid": "29619260-9176-46b7-b118-9937d464feac",
     "showTitle": false,
     "title": ""
    }
   },
   "outputs": [
    {
     "output_type": "stream",
     "name": "stdout",
     "output_type": "stream",
     "text": [
      "root\n |-- cnpj_basico: integer (nullable = true)\n |-- identificador_de_socio: integer (nullable = true)\n |-- nome_do_socio_ou_razao_social: string (nullable = true)\n |-- cnpj_ou_cpf_do_socio: string (nullable = true)\n |-- qualificacao_do_socio: integer (nullable = true)\n |-- data_de_entrada_sociedade: integer (nullable = true)\n |-- pais: integer (nullable = true)\n |-- representante_legal: string (nullable = true)\n |-- nome_do_representante: string (nullable = true)\n |-- qualificacao_do_representante_legal: integer (nullable = true)\n |-- faixa_etaria: integer (nullable = true)\n\n"
     ]
    }
   ],
   "source": [
    "socios.printSchema()"
   ]
  },
  {
   "cell_type": "markdown",
   "metadata": {
    "application/vnd.databricks.v1+cell": {
     "cellMetadata": {},
     "inputWidgets": {},
     "nuid": "5d858c6e-3194-4355-9144-ef2749126d2b",
     "showTitle": false,
     "title": ""
    }
   },
   "source": [
    "Select com Spark"
   ]
  },
  {
   "cell_type": "code",
   "execution_count": 0,
   "metadata": {
    "application/vnd.databricks.v1+cell": {
     "cellMetadata": {
      "byteLimit": 2048000,
      "rowLimit": 10000
     },
     "inputWidgets": {},
     "nuid": "c4162c07-1a11-4c0c-972e-fea1faef0d9e",
     "showTitle": false,
     "title": ""
    }
   },
   "outputs": [
    {
     "output_type": "stream",
     "name": "stdout",
     "output_type": "stream",
     "text": [
      "+--------------------------------------------------------------------------------------------+-----------+\n|razao_social_nome_empresarial                                                               |cnpj_basico|\n+--------------------------------------------------------------------------------------------+-----------+\n|BRASILEIRO & OLIVEIRA LTDA                                                                  |1355       |\n|REGISTRO DE IMOVEIS, TABELIONATO 1 DE NOTAS E TABELIONATO E REGISTRO DE CONSTRATOS MARITIMOS|4820       |\n|ROSELY APARECIDA MONTEIRO CALTABIANO FREITAS                                                |5347       |\n|BADU E FILHOS TECIDOS LTDA                                                                  |6846       |\n|ELETRICA RUBI LTDA                                                                          |8416       |\n+--------------------------------------------------------------------------------------------+-----------+\nonly showing top 5 rows\n\n"
     ]
    }
   ],
   "source": [
    "empresas.select(\"razao_social_nome_empresarial\", \"cnpj_basico\").show(5, False)"
   ]
  },
  {
   "cell_type": "code",
   "execution_count": 0,
   "metadata": {
    "application/vnd.databricks.v1+cell": {
     "cellMetadata": {
      "byteLimit": 2048000,
      "rowLimit": 10000
     },
     "inputWidgets": {},
     "nuid": "b60ba9c8-2789-4c44-b313-19b4528dae82",
     "showTitle": false,
     "title": ""
    }
   },
   "outputs": [],
   "source": [
    "#Mudando nome e data\n",
    "socios_nomes = socios.select(\"nome_do_socio_ou_razao_social\", \"faixa_etaria\", f.year(\"data_de_entrada_sociedade\").alias('ano_de_entrada'))"
   ]
  },
  {
   "cell_type": "code",
   "execution_count": 0,
   "metadata": {
    "application/vnd.databricks.v1+cell": {
     "cellMetadata": {
      "byteLimit": 2048000,
      "rowLimit": 10000
     },
     "inputWidgets": {},
     "nuid": "a63657b8-2f59-4925-ba7a-49e5d91052b4",
     "showTitle": false,
     "title": ""
    }
   },
   "outputs": [
    {
     "output_type": "stream",
     "name": "stdout",
     "output_type": "stream",
     "text": [
      "+---------------------+------------+--------------+\n|nome_e_ultimo_nome   |faixa_etaria|ano_de_entrada|\n+---------------------+------------+--------------+\n|CRISTINA, HUNDERTMARK|7           |1994          |\n|CELSO, STEPHAN       |8           |1994          |\n|EDUARDO, STEPHAN     |5           |1994          |\n|HANNE, FADEL         |8           |1994          |\n|CLOD, FADEL          |6           |1994          |\n|WALKYRIA, ALGARVES   |7           |1997          |\n|SEBASTIAO, NUNES     |5           |2009          |\n|JOSE, ADAMO          |7           |1994          |\n|ROSEMARY, ADAMO      |6           |1994          |\n|MARCOS, MOTTA        |7           |1994          |\n+---------------------+------------+--------------+\nonly showing top 10 rows\n\n"
     ]
    }
   ],
   "source": [
    "socios_nomes.select(f.concat_ws(', ', f.substring_index('nome_do_socio_ou_razao_social', ' ', 1),\n",
    "                                     f.substring_index('nome_do_socio_ou_razao_social', ' ', -1))\\\n",
    "                                         .alias('nome_e_ultimo_nome'), 'faixa_etaria', 'ano_de_entrada')\\\n",
    "                                             .show(10, truncate=False)"
   ]
  },
  {
   "cell_type": "code",
   "execution_count": 0,
   "metadata": {
    "application/vnd.databricks.v1+cell": {
     "cellMetadata": {
      "byteLimit": 2048000,
      "rowLimit": 10000
     },
     "inputWidgets": {},
     "nuid": "cd1cffde-fc83-4d90-ae9b-d4bf9dad728d",
     "showTitle": false,
     "title": ""
    }
   },
   "outputs": [
    {
     "output_type": "stream",
     "name": "stdout",
     "output_type": "stream",
     "text": [
      "+-------------------------------+------------+--------------+\n|nome_do_socio_ou_razao_social  |faixa_etaria|ano_de_entrada|\n+-------------------------------+------------+--------------+\n|CRISTINA HUNDERTMARK           |7           |1994          |\n|CELSO EDUARDO DE CASTRO STEPHAN|8           |1994          |\n|EDUARDO BERRINGER STEPHAN      |5           |1994          |\n|HANNE MAHFOUD FADEL            |8           |1994          |\n|CLOD ASSAD FADEL               |6           |1994          |\n+-------------------------------+------------+--------------+\nonly showing top 5 rows\n\n"
     ]
    }
   ],
   "source": [
    "socios_nomes.show(5, False)"
   ]
  },
  {
   "cell_type": "code",
   "execution_count": 0,
   "metadata": {
    "application/vnd.databricks.v1+cell": {
     "cellMetadata": {
      "byteLimit": 2048000,
      "rowLimit": 10000
     },
     "inputWidgets": {},
     "nuid": "ba4f68ab-ff70-4359-ae81-d18b8d459674",
     "showTitle": false,
     "title": ""
    }
   },
   "outputs": [
    {
     "output_type": "display_data",
     "data": {
      "text/html": [
       "<style scoped>\n",
       "  .table-result-container {\n",
       "    max-height: 300px;\n",
       "    overflow: auto;\n",
       "  }\n",
       "  table, th, td {\n",
       "    border: 1px solid black;\n",
       "    border-collapse: collapse;\n",
       "  }\n",
       "  th, td {\n",
       "    padding: 5px;\n",
       "  }\n",
       "  th {\n",
       "    text-align: left;\n",
       "  }\n",
       "</style><div class='table-result-container'><table class='table-result'><thead style='background-color: white'><tr><th>cnpj_basico</th><th>identificador_de_socio</th><th>nome_do_socio_ou_razao_social</th><th>cnpj_ou_cpf_do_socio</th><th>qualificacao_do_socio</th><th>data_de_entrada_sociedade</th><th>pais</th><th>representante_legal</th><th>nome_do_representante</th><th>qualificacao_do_representante_legal</th><th>faixa_etaria</th></tr></thead><tbody><tr><td>0</td><td>0</td><td>208</td><td>1234</td><td>0</td><td>1</td><td>2038245</td><td>0</td><td>1995422</td><td>0</td><td>0</td></tr></tbody></table></div>"
      ]
     },
     "metadata": {
      "application/vnd.databricks.v1+output": {
       "addedWidgets": {},
       "aggData": [],
       "aggError": "",
       "aggOverflow": false,
       "aggSchema": [],
       "aggSeriesLimitReached": false,
       "aggType": "",
       "arguments": {},
       "columnCustomDisplayInfos": {},
       "data": [
        [
         0,
         0,
         208,
         1234,
         0,
         1,
         2038245,
         0,
         1995422,
         0,
         0
        ]
       ],
       "datasetInfos": [],
       "dbfsResultPath": null,
       "isJsonSchema": true,
       "metadata": {},
       "overflow": false,
       "plotOptions": {
        "customPlotOptions": {},
        "displayType": "table",
        "pivotAggregation": null,
        "pivotColumns": null,
        "xColumns": null,
        "yColumns": null
       },
       "removedWidgets": [],
       "schema": [
        {
         "metadata": "{}",
         "name": "cnpj_basico",
         "type": "\"long\""
        },
        {
         "metadata": "{}",
         "name": "identificador_de_socio",
         "type": "\"long\""
        },
        {
         "metadata": "{}",
         "name": "nome_do_socio_ou_razao_social",
         "type": "\"long\""
        },
        {
         "metadata": "{}",
         "name": "cnpj_ou_cpf_do_socio",
         "type": "\"long\""
        },
        {
         "metadata": "{}",
         "name": "qualificacao_do_socio",
         "type": "\"long\""
        },
        {
         "metadata": "{}",
         "name": "data_de_entrada_sociedade",
         "type": "\"long\""
        },
        {
         "metadata": "{}",
         "name": "pais",
         "type": "\"long\""
        },
        {
         "metadata": "{}",
         "name": "representante_legal",
         "type": "\"long\""
        },
        {
         "metadata": "{}",
         "name": "nome_do_representante",
         "type": "\"long\""
        },
        {
         "metadata": "{}",
         "name": "qualificacao_do_representante_legal",
         "type": "\"long\""
        },
        {
         "metadata": "{}",
         "name": "faixa_etaria",
         "type": "\"long\""
        }
       ],
       "type": "table"
      }
     },
     "output_type": "display_data"
    }
   ],
   "source": [
    "socios_null = socios.select([f.count(f.when(f.isnull(c), 1)).alias(c) for c in socios.columns])\n",
    "display(socios_null)\n"
   ]
  },
  {
   "cell_type": "code",
   "execution_count": 0,
   "metadata": {
    "application/vnd.databricks.v1+cell": {
     "cellMetadata": {
      "byteLimit": 2048000,
      "rowLimit": 10000
     },
     "inputWidgets": {},
     "nuid": "b0c3fb22-a9e3-450f-a0fa-8caecb2239d8",
     "showTitle": false,
     "title": ""
    }
   },
   "outputs": [
    {
     "output_type": "stream",
     "name": "stdout",
     "output_type": "stream",
     "text": [
      "+--------------------------------------+------------+--------------+\n|nome_do_socio_ou_razao_social         |faixa_etaria|ano_de_entrada|\n+--------------------------------------+------------+--------------+\n|ELTON ROBERTO DA SILVA                |5           |2021          |\n|ANA LUCIA ALVES DE CARVALHO           |5           |2021          |\n|ELTO DE SOUZA GOMES                   |6           |2021          |\n|ORLANDO CLAUDIO GADELHA SIMAS PROCOPIO|6           |2021          |\n|RHENNO JAMIL TEBET PAIVA              |3           |2021          |\n|EVERSON LUIS DA SILVA MELO            |4           |2021          |\n|MARIA ISMENIA BRILHANTE BARROS        |8           |2021          |\n|JORGE RODRIGUES SANTOS                |6           |2021          |\n|MARIA SUELY DE MOURA                  |5           |2021          |\n|WILSON ROCHA FILHO                    |7           |2021          |\n+--------------------------------------+------------+--------------+\nonly showing top 10 rows\n\n"
     ]
    }
   ],
   "source": [
    "socios.select('nome_do_socio_ou_razao_social', 'faixa_etaria', f.year('data_de_entrada_sociedade').alias(\"ano_de_entrada\"))\\\n",
    "    .orderBy('ano_de_entrada', ascending=False)\\\n",
    "    .show(10, False)"
   ]
  },
  {
   "cell_type": "code",
   "execution_count": 0,
   "metadata": {
    "application/vnd.databricks.v1+cell": {
     "cellMetadata": {
      "byteLimit": 2048000,
      "rowLimit": 10000
     },
     "inputWidgets": {},
     "nuid": "b2dd2c9d-fc8e-4cc5-a60b-e9957958108b",
     "showTitle": false,
     "title": ""
    }
   },
   "outputs": [
    {
     "output_type": "stream",
     "name": "stdout",
     "output_type": "stream",
     "text": [
      "+-------------------------------------+------------+--------------+\n|nome_do_socio_ou_razao_social        |faixa_etaria|ano_de_entrada|\n+-------------------------------------+------------+--------------+\n|MARIA RAIMUNDA DOS SANTOS LANZA      |9           |2021          |\n|ANDRE PAUL GABAY                     |9           |2021          |\n|LUZINETE DANTAS DE OLIVEIRA RODRIGUES|9           |2021          |\n|FLORIDA ECHECHIPIA                   |9           |2021          |\n|FRANCISCO ALFREDO LOBO JUNGER        |9           |2021          |\n|ZELIA FERREIRA DA SILVA              |9           |2021          |\n|JOAO KOJIN                           |9           |2021          |\n|EUDOXIO PONTES DE SOUZA              |9           |2021          |\n|APPARECIDA ALBANI DE LIMA            |9           |2021          |\n|ROBERTO CARDOSO DE ALMEIDA AMORIM    |9           |2021          |\n+-------------------------------------+------------+--------------+\nonly showing top 10 rows\n\n"
     ]
    }
   ],
   "source": [
    "socios.select('nome_do_socio_ou_razao_social', 'faixa_etaria', f.year('data_de_entrada_sociedade').alias(\"ano_de_entrada\"))\\\n",
    "    .orderBy(['ano_de_entrada', 'faixa_etaria'], ascending=[False, False])\\\n",
    "    .show(10, False)"
   ]
  },
  {
   "cell_type": "code",
   "execution_count": 0,
   "metadata": {
    "application/vnd.databricks.v1+cell": {
     "cellMetadata": {
      "byteLimit": 2048000,
      "rowLimit": 10000
     },
     "inputWidgets": {},
     "nuid": "7a6ce00f-ff14-4646-8a82-c549e3504753",
     "showTitle": false,
     "title": ""
    }
   },
   "outputs": [
    {
     "output_type": "stream",
     "name": "stdout",
     "output_type": "stream",
     "text": [
      "+-----------+------------------------------------+-----------------+---------------------------+-------------------------+----------------+---------------------------+\n|cnpj_basico|razao_social_nome_empresarial       |natureza_juridica|qualificacao_do_responsavel|capital_social_da_empresa|porte_da_empresa|ente_federativo_responsavel|\n+-----------+------------------------------------+-----------------+---------------------------+-------------------------+----------------+---------------------------+\n|17350147   |ERIK MARCELO DOS SANTOS 42107848858 |2135             |50                         |50.0                     |1               |null                       |\n|17833214   |ALEXANDRE MACHADO LIMA 73750123772  |2135             |50                         |50.0                     |1               |null                       |\n|20860830   |YASMIN MOURA DA FONSECA 13457709793 |2135             |50                         |50.0                     |1               |null                       |\n|22242856   |JOAO CESAR MESSIAS 08707149883      |2135             |50                         |50.0                     |1               |null                       |\n|23238540   |EVERTON ROBERTO DA SILVA 42101963809|2135             |50                         |50.0                     |1               |null                       |\n+-----------+------------------------------------+-----------------+---------------------------+-------------------------+----------------+---------------------------+\nonly showing top 5 rows\n\n"
     ]
    }
   ],
   "source": [
    "empresas.where(\"capital_social_da_empresa==50\").show(5, False)"
   ]
  },
  {
   "cell_type": "code",
   "execution_count": 0,
   "metadata": {
    "application/vnd.databricks.v1+cell": {
     "cellMetadata": {
      "byteLimit": 2048000,
      "rowLimit": 10000
     },
     "inputWidgets": {},
     "nuid": "92e10945-0e1c-4463-8887-89d174499ac3",
     "showTitle": false,
     "title": ""
    }
   },
   "outputs": [
    {
     "output_type": "display_data",
     "data": {
      "text/html": [
       "<div>\n",
       "<style scoped>\n",
       "    .dataframe tbody tr th:only-of-type {\n",
       "        vertical-align: middle;\n",
       "    }\n",
       "\n",
       "    .dataframe tbody tr th {\n",
       "        vertical-align: top;\n",
       "    }\n",
       "\n",
       "    .dataframe thead th {\n",
       "        text-align: right;\n",
       "    }\n",
       "</style>\n",
       "<table border=\"1\" class=\"dataframe\">\n",
       "  <thead>\n",
       "    <tr style=\"text-align: right;\">\n",
       "      <th></th>\n",
       "      <th>nome_do_socio_ou_razao_social</th>\n",
       "    </tr>\n",
       "  </thead>\n",
       "  <tbody>\n",
       "    <tr>\n",
       "      <th>0</th>\n",
       "      <td>LUCIANO ACCIOLY TINOCO</td>\n",
       "    </tr>\n",
       "    <tr>\n",
       "      <th>1</th>\n",
       "      <td>LUCIANO ACCIOLY TINOCO</td>\n",
       "    </tr>\n",
       "  </tbody>\n",
       "</table>\n",
       "</div>"
      ]
     },
     "metadata": {
      "application/vnd.databricks.v1+output": {
       "addedWidgets": {},
       "arguments": {},
       "data": "<div>\n<style scoped>\n    .dataframe tbody tr th:only-of-type {\n        vertical-align: middle;\n    }\n\n    .dataframe tbody tr th {\n        vertical-align: top;\n    }\n\n    .dataframe thead th {\n        text-align: right;\n    }\n</style>\n<table border=\"1\" class=\"dataframe\">\n  <thead>\n    <tr style=\"text-align: right;\">\n      <th></th>\n      <th>nome_do_socio_ou_razao_social</th>\n    </tr>\n  </thead>\n  <tbody>\n    <tr>\n      <th>0</th>\n      <td>LUCIANO ACCIOLY TINOCO</td>\n    </tr>\n    <tr>\n      <th>1</th>\n      <td>LUCIANO ACCIOLY TINOCO</td>\n    </tr>\n  </tbody>\n</table>\n</div>",
       "datasetInfos": [],
       "metadata": {},
       "removedWidgets": [],
       "textData": null,
       "type": "htmlSandbox"
      }
     },
     "output_type": "display_data"
    }
   ],
   "source": [
    "socios.select('nome_do_socio_ou_razao_social')\\\n",
    "    .filter(socios.nome_do_socio_ou_razao_social.startswith(\"LUCIANO\"))\\\n",
    "        .filter(socios.nome_do_socio_ou_razao_social.endswith(\"TINOCO\"))\\\n",
    "            .limit(10)\\\n",
    "                .toPandas()"
   ]
  },
  {
   "cell_type": "code",
   "execution_count": 0,
   "metadata": {
    "application/vnd.databricks.v1+cell": {
     "cellMetadata": {
      "byteLimit": 2048000,
      "rowLimit": 10000
     },
     "inputWidgets": {},
     "nuid": "c16ee523-bb48-4cf8-8804-0a03fa2740a2",
     "showTitle": false,
     "title": ""
    }
   },
   "outputs": [
    {
     "output_type": "stream",
     "name": "stdout",
     "output_type": "stream",
     "text": [
      "+------------------------------------------+-----------------+----------------+-------------------------+\n|razao_social_nome_empresarial             |natureza_juridica|porte_da_empresa|capital_social_da_empresa|\n+------------------------------------------+-----------------+----------------+-------------------------+\n|RESTAURANTE IMIGRANTE PORTUGUES LTDA.     |2062             |5               |0.0                      |\n|RESTAURANTE E PETISCARIA THE-DELICIA LTDA |2062             |5               |0.0                      |\n|RESTAURANTE PONTO NOBRE EIRELI            |2305             |1               |105000.0                 |\n|RESTAURANTE ALEGRIA ALEGRIA LTDA          |2062             |1               |5000.0                   |\n|RESTAURANTE D GABI EIRELI                 |2305             |1               |95400.0                  |\n|RESTAURANTE DONA CHICA LTDA               |2062             |1               |5000.0                   |\n|RESTAURANTE SABOR REGIONAL LTDA           |2062             |1               |20000.0                  |\n|RESTAURANTE E LANCHONETE MEU CANTINHO LTDA|2062             |5               |0.0                      |\n|RESTAURANTE BEM NUTRIDO LTDA              |2062             |5               |0.0                      |\n|RESTAURANTE TOQUIO SUSHI EIRELI           |2305             |1               |68000.0                  |\n+------------------------------------------+-----------------+----------------+-------------------------+\nonly showing top 10 rows\n\n"
     ]
    }
   ],
   "source": [
    "empresas.select(\"razao_social_nome_empresarial\", 'natureza_juridica', 'porte_da_empresa', 'capital_social_da_empresa')\\\n",
    "    .filter(f.upper(empresas.razao_social_nome_empresarial).like(\"RESTAURANTE%\"))\\\n",
    "        .show(10, False)"
   ]
  },
  {
   "cell_type": "code",
   "execution_count": 0,
   "metadata": {
    "application/vnd.databricks.v1+cell": {
     "cellMetadata": {
      "byteLimit": 2048000,
      "rowLimit": 10000
     },
     "inputWidgets": {},
     "nuid": "b236c5dc-4832-45de-976b-66659ef73e5e",
     "showTitle": false,
     "title": ""
    }
   },
   "outputs": [],
   "source": [
    "from pyspark.sql.functions import col"
   ]
  },
  {
   "cell_type": "code",
   "execution_count": 0,
   "metadata": {
    "application/vnd.databricks.v1+cell": {
     "cellMetadata": {
      "byteLimit": 2048000,
      "rowLimit": 10000
     },
     "inputWidgets": {},
     "nuid": "b4077e79-d16d-4f27-b88f-e3b8e82788a9",
     "showTitle": false,
     "title": ""
    }
   },
   "outputs": [
    {
     "output_type": "stream",
     "name": "stdout",
     "output_type": "stream",
     "text": [
      "146\n"
     ]
    }
   ],
   "source": [
    "print(socios\\\n",
    "    .filter(socios.nome_do_socio_ou_razao_social.like('%TINOCO'))\\\n",
    "        .count())\n",
    "\n"
   ]
  },
  {
   "cell_type": "code",
   "execution_count": 0,
   "metadata": {
    "application/vnd.databricks.v1+cell": {
     "cellMetadata": {
      "byteLimit": 2048000,
      "rowLimit": 10000
     },
     "inputWidgets": {},
     "nuid": "5768c77d-d762-48d8-8fa9-839e86ec71ad",
     "showTitle": false,
     "title": ""
    }
   },
   "outputs": [
    {
     "output_type": "stream",
     "name": "stdout",
     "output_type": "stream",
     "text": [
      "+--------------+------+\n|ano_de_entrada| count|\n+--------------+------+\n|          2010| 79337|\n|          2011| 83906|\n|          2012| 80100|\n|          2013| 83919|\n|          2014| 80590|\n|          2015| 80906|\n|          2016| 81587|\n|          2017| 90221|\n|          2018| 99935|\n|          2019|118247|\n|          2020|125927|\n|          2021| 56316|\n+--------------+------+\n\n"
     ]
    }
   ],
   "source": [
    "###AGRUPAMENTO\n",
    "\n",
    "socios.select(f.year('data_de_entrada_sociedade').alias(\"ano_de_entrada\"))\\\n",
    "    .filter(\"ano_de_entrada >= 2010\")\\\n",
    "        .groupBy('ano_de_entrada')\\\n",
    "            .count().alias(\"quantidade\")\\\n",
    "            .orderBy('ano_de_entrada', ascending=True)\\\n",
    "                .show()"
   ]
  },
  {
   "cell_type": "code",
   "execution_count": 0,
   "metadata": {
    "application/vnd.databricks.v1+cell": {
     "cellMetadata": {
      "byteLimit": 2048000,
      "rowLimit": 10000
     },
     "inputWidgets": {},
     "nuid": "ecc42f8f-8e80-427a-ae1d-7aba7cffa20a",
     "showTitle": false,
     "title": ""
    }
   },
   "outputs": [
    {
     "output_type": "stream",
     "name": "stdout",
     "output_type": "stream",
     "text": [
      "+--------------+----------+\n|ano_de_entrada|quantidade|\n+--------------+----------+\n|          2010|     79337|\n|          2011|     83906|\n|          2012|     80100|\n|          2013|     83919|\n|          2014|     80590|\n|          2015|     80906|\n|          2016|     81587|\n|          2017|     90221|\n|          2018|     99935|\n|          2019|    118247|\n|          2020|    125927|\n|          2021|     56316|\n+--------------+----------+\n\n"
     ]
    }
   ],
   "source": [
    "#mesmo que em cima, porém muda o nome do 'count'\n",
    "socios.select(f.year('data_de_entrada_sociedade').alias(\"ano_de_entrada\"))\\\n",
    "    .filter(\"ano_de_entrada >= 2010\")\\\n",
    "    .groupBy('ano_de_entrada')\\\n",
    "    .agg(f.count(\"*\").alias(\"quantidade\"))\\\n",
    "    .orderBy('ano_de_entrada', ascending=True)\\\n",
    "    .show()"
   ]
  },
  {
   "cell_type": "code",
   "execution_count": 0,
   "metadata": {
    "application/vnd.databricks.v1+cell": {
     "cellMetadata": {
      "byteLimit": 2048000,
      "rowLimit": 10000
     },
     "inputWidgets": {},
     "nuid": "ab157acc-c6f9-40a3-8c8f-5ecb69469831",
     "showTitle": false,
     "title": ""
    }
   },
   "outputs": [
    {
     "output_type": "display_data",
     "data": {
      "text/html": [
       "<div>\n",
       "<style scoped>\n",
       "    .dataframe tbody tr th:only-of-type {\n",
       "        vertical-align: middle;\n",
       "    }\n",
       "\n",
       "    .dataframe tbody tr th {\n",
       "        vertical-align: top;\n",
       "    }\n",
       "\n",
       "    .dataframe thead th {\n",
       "        text-align: right;\n",
       "    }\n",
       "</style>\n",
       "<table border=\"1\" class=\"dataframe\">\n",
       "  <thead>\n",
       "    <tr style=\"text-align: right;\">\n",
       "      <th></th>\n",
       "      <th>cnpj_basico</th>\n",
       "      <th>razao_social_nome_empresarial</th>\n",
       "      <th>natureza_juridica</th>\n",
       "      <th>qualificacao_do_responsavel</th>\n",
       "      <th>capital_social_da_empresa</th>\n",
       "      <th>porte_da_empresa</th>\n",
       "      <th>ente_federativo_responsavel</th>\n",
       "    </tr>\n",
       "  </thead>\n",
       "  <tbody>\n",
       "    <tr>\n",
       "      <th>0</th>\n",
       "      <td>1355</td>\n",
       "      <td>BRASILEIRO &amp; OLIVEIRA LTDA</td>\n",
       "      <td>2062</td>\n",
       "      <td>49</td>\n",
       "      <td>0.0</td>\n",
       "      <td>5</td>\n",
       "      <td>None</td>\n",
       "    </tr>\n",
       "    <tr>\n",
       "      <th>1</th>\n",
       "      <td>4820</td>\n",
       "      <td>REGISTRO DE IMOVEIS, TABELIONATO 1 DE NOTAS E ...</td>\n",
       "      <td>3034</td>\n",
       "      <td>32</td>\n",
       "      <td>0.0</td>\n",
       "      <td>5</td>\n",
       "      <td>None</td>\n",
       "    </tr>\n",
       "    <tr>\n",
       "      <th>2</th>\n",
       "      <td>5347</td>\n",
       "      <td>ROSELY APARECIDA MONTEIRO CALTABIANO FREITAS</td>\n",
       "      <td>2135</td>\n",
       "      <td>50</td>\n",
       "      <td>0.0</td>\n",
       "      <td>5</td>\n",
       "      <td>None</td>\n",
       "    </tr>\n",
       "    <tr>\n",
       "      <th>3</th>\n",
       "      <td>6846</td>\n",
       "      <td>BADU E FILHOS TECIDOS LTDA</td>\n",
       "      <td>2062</td>\n",
       "      <td>49</td>\n",
       "      <td>4000.0</td>\n",
       "      <td>1</td>\n",
       "      <td>None</td>\n",
       "    </tr>\n",
       "    <tr>\n",
       "      <th>4</th>\n",
       "      <td>8416</td>\n",
       "      <td>ELETRICA RUBI LTDA</td>\n",
       "      <td>2062</td>\n",
       "      <td>49</td>\n",
       "      <td>0.0</td>\n",
       "      <td>5</td>\n",
       "      <td>None</td>\n",
       "    </tr>\n",
       "  </tbody>\n",
       "</table>\n",
       "</div>"
      ]
     },
     "metadata": {
      "application/vnd.databricks.v1+output": {
       "addedWidgets": {},
       "arguments": {},
       "data": "<div>\n<style scoped>\n    .dataframe tbody tr th:only-of-type {\n        vertical-align: middle;\n    }\n\n    .dataframe tbody tr th {\n        vertical-align: top;\n    }\n\n    .dataframe thead th {\n        text-align: right;\n    }\n</style>\n<table border=\"1\" class=\"dataframe\">\n  <thead>\n    <tr style=\"text-align: right;\">\n      <th></th>\n      <th>cnpj_basico</th>\n      <th>razao_social_nome_empresarial</th>\n      <th>natureza_juridica</th>\n      <th>qualificacao_do_responsavel</th>\n      <th>capital_social_da_empresa</th>\n      <th>porte_da_empresa</th>\n      <th>ente_federativo_responsavel</th>\n    </tr>\n  </thead>\n  <tbody>\n    <tr>\n      <th>0</th>\n      <td>1355</td>\n      <td>BRASILEIRO &amp; OLIVEIRA LTDA</td>\n      <td>2062</td>\n      <td>49</td>\n      <td>0.0</td>\n      <td>5</td>\n      <td>None</td>\n    </tr>\n    <tr>\n      <th>1</th>\n      <td>4820</td>\n      <td>REGISTRO DE IMOVEIS, TABELIONATO 1 DE NOTAS E ...</td>\n      <td>3034</td>\n      <td>32</td>\n      <td>0.0</td>\n      <td>5</td>\n      <td>None</td>\n    </tr>\n    <tr>\n      <th>2</th>\n      <td>5347</td>\n      <td>ROSELY APARECIDA MONTEIRO CALTABIANO FREITAS</td>\n      <td>2135</td>\n      <td>50</td>\n      <td>0.0</td>\n      <td>5</td>\n      <td>None</td>\n    </tr>\n    <tr>\n      <th>3</th>\n      <td>6846</td>\n      <td>BADU E FILHOS TECIDOS LTDA</td>\n      <td>2062</td>\n      <td>49</td>\n      <td>4000.0</td>\n      <td>1</td>\n      <td>None</td>\n    </tr>\n    <tr>\n      <th>4</th>\n      <td>8416</td>\n      <td>ELETRICA RUBI LTDA</td>\n      <td>2062</td>\n      <td>49</td>\n      <td>0.0</td>\n      <td>5</td>\n      <td>None</td>\n    </tr>\n  </tbody>\n</table>\n</div>",
       "datasetInfos": [],
       "metadata": {},
       "removedWidgets": [],
       "textData": null,
       "type": "htmlSandbox"
      }
     },
     "output_type": "display_data"
    }
   ],
   "source": [
    "empresas.limit(5).toPandas()"
   ]
  },
  {
   "cell_type": "code",
   "execution_count": 0,
   "metadata": {
    "application/vnd.databricks.v1+cell": {
     "cellMetadata": {
      "byteLimit": 2048000,
      "rowLimit": 10000
     },
     "inputWidgets": {},
     "nuid": "39f6e0c1-f819-47e8-8f48-89af7b0cdf39",
     "showTitle": false,
     "title": ""
    }
   },
   "outputs": [
    {
     "output_type": "stream",
     "name": "stdout",
     "output_type": "stream",
     "text": [
      "+----------------+--------------------+----------+\n|porte_da_empresa|capital_social_medio|frequencia|\n+----------------+--------------------+----------+\n|            null|    8.35421888053467|      5985|\n|               1|   339994.7504505567|   3129041|\n|               3|   2601023.660907425|    115150|\n|               5|   708664.1352757071|   1335493|\n+----------------+--------------------+----------+\n\n"
     ]
    }
   ],
   "source": [
    "empresas.select('cnpj_basico', 'porte_da_empresa', 'capital_social_da_empresa')\\\n",
    "    .groupBy(\"porte_da_empresa\")\\\n",
    "        .agg(\n",
    "            f.avg(\"capital_social_da_empresa\").alias('capital_social_medio'),\n",
    "            f.count('cnpj_basico').alias(\"frequencia\")    \n",
    "        )\\\n",
    "            .orderBy('porte_da_empresa', ascending=True).show()"
   ]
  },
  {
   "cell_type": "code",
   "execution_count": 0,
   "metadata": {
    "application/vnd.databricks.v1+cell": {
     "cellMetadata": {
      "byteLimit": 2048000,
      "rowLimit": 10000
     },
     "inputWidgets": {},
     "nuid": "a8471770-cd91-410f-8530-65e7718024bf",
     "showTitle": false,
     "title": ""
    }
   },
   "outputs": [
    {
     "output_type": "stream",
     "name": "stdout",
     "output_type": "stream",
     "text": [
      "+-------+-------------------------+\n|summary|capital_social_da_empresa|\n+-------+-------------------------+\n|  count|                  4585669|\n|   mean|         503695.628818785|\n| stddev|     2.1118714517240676E8|\n|    min|                      0.0|\n|    25%|                      0.0|\n|    50%|                   1000.0|\n|    75%|                   7000.0|\n|    max|         3.22014670262E11|\n+-------+-------------------------+\n\n"
     ]
    }
   ],
   "source": [
    "empresas.select(\"capital_social_da_empresa\").summary().show()"
   ]
  },
  {
   "cell_type": "code",
   "execution_count": 0,
   "metadata": {
    "application/vnd.databricks.v1+cell": {
     "cellMetadata": {
      "byteLimit": 2048000,
      "rowLimit": 10000
     },
     "inputWidgets": {},
     "nuid": "880386db-0c5a-4cb3-81a5-50342b4bc851",
     "showTitle": false,
     "title": ""
    }
   },
   "outputs": [],
   "source": [
    "empresas_join = estabelecimentos.join(empresas, 'cnpj_basico', how='inner')"
   ]
  },
  {
   "cell_type": "code",
   "execution_count": 0,
   "metadata": {
    "application/vnd.databricks.v1+cell": {
     "cellMetadata": {
      "byteLimit": 2048000,
      "rowLimit": 10000
     },
     "inputWidgets": {},
     "nuid": "a287a02a-8c3a-4ad6-8a3e-27d265b2e9b5",
     "showTitle": false,
     "title": ""
    }
   },
   "outputs": [
    {
     "output_type": "stream",
     "name": "stdout",
     "output_type": "stream",
     "text": [
      "root\n |-- cnpj_basico: integer (nullable = true)\n |-- cnpj_ordem: integer (nullable = true)\n |-- cnpj_dv: integer (nullable = true)\n |-- identificador_matriz_filial: integer (nullable = true)\n |-- nome_fantasia: string (nullable = true)\n |-- situacao_cadastral: integer (nullable = true)\n |-- data_situacao_cadastral: date (nullable = true)\n |-- motivo_situacao_cadastral: integer (nullable = true)\n |-- nome_da_cidade_no_exterior: string (nullable = true)\n |-- pais: integer (nullable = true)\n |-- data_de_inicio_atividade: date (nullable = true)\n |-- cnae_fiscal_principal: integer (nullable = true)\n |-- cnae_fiscal_secundaria: string (nullable = true)\n |-- tipo_de_logradouro: string (nullable = true)\n |-- logradouro: string (nullable = true)\n |-- numero: string (nullable = true)\n |-- complemento: string (nullable = true)\n |-- bairro: string (nullable = true)\n |-- cep: integer (nullable = true)\n |-- uf: string (nullable = true)\n |-- municipio: integer (nullable = true)\n |-- ddd_1: string (nullable = true)\n |-- telefone_1: string (nullable = true)\n |-- ddd_2: string (nullable = true)\n |-- telefone_2: string (nullable = true)\n |-- ddd_do_fax: integer (nullable = true)\n |-- fax: string (nullable = true)\n |-- correio_eletronico: string (nullable = true)\n |-- situacao_especial: string (nullable = true)\n |-- data_da_situacao_especial: date (nullable = true)\n |-- razao_social_nome_empresarial: string (nullable = true)\n |-- natureza_juridica: integer (nullable = true)\n |-- qualificacao_do_responsavel: integer (nullable = true)\n |-- capital_social_da_empresa: double (nullable = true)\n |-- porte_da_empresa: integer (nullable = true)\n |-- ente_federativo_responsavel: string (nullable = true)\n\n"
     ]
    }
   ],
   "source": [
    "empresas_join.printSchema()"
   ]
  },
  {
   "cell_type": "code",
   "execution_count": 0,
   "metadata": {
    "application/vnd.databricks.v1+cell": {
     "cellMetadata": {
      "byteLimit": 2048000,
      "rowLimit": 10000
     },
     "inputWidgets": {},
     "nuid": "4dc225b4-81a0-43b0-8139-156cbef278f7",
     "showTitle": false,
     "title": ""
    }
   },
   "outputs": [],
   "source": [
    "frequencia_df = empresas_join.select(\n",
    "    'cnpj_basico',\n",
    "    f.year(\"data_de_inicio_atividade\").alias(\"data_de_inicio\")\n",
    ")\\\n",
    "    .where('data_de_inicio >= 2010')\\\n",
    "        .groupBy('data_de_inicio')\\\n",
    "            .agg(f.count('cnpj_basico').alias('frequencia'))\\\n",
    "                .orderBy('data_de_inicio', ascending=True)"
   ]
  },
  {
   "cell_type": "code",
   "execution_count": 0,
   "metadata": {
    "application/vnd.databricks.v1+cell": {
     "cellMetadata": {
      "byteLimit": 2048000,
      "rowLimit": 10000
     },
     "inputWidgets": {},
     "nuid": "b252a672-b181-4c5b-805e-bdc5f87daa9c",
     "showTitle": false,
     "title": ""
    }
   },
   "outputs": [
    {
     "output_type": "display_data",
     "data": {
      "text/html": [
       "<div>\n",
       "<style scoped>\n",
       "    .dataframe tbody tr th:only-of-type {\n",
       "        vertical-align: middle;\n",
       "    }\n",
       "\n",
       "    .dataframe tbody tr th {\n",
       "        vertical-align: top;\n",
       "    }\n",
       "\n",
       "    .dataframe thead th {\n",
       "        text-align: right;\n",
       "    }\n",
       "</style>\n",
       "<table border=\"1\" class=\"dataframe\">\n",
       "  <thead>\n",
       "    <tr style=\"text-align: right;\">\n",
       "      <th></th>\n",
       "      <th>data_de_inicio</th>\n",
       "      <th>frequencia</th>\n",
       "    </tr>\n",
       "  </thead>\n",
       "  <tbody>\n",
       "    <tr>\n",
       "      <th>0</th>\n",
       "      <td>2010</td>\n",
       "      <td>154159</td>\n",
       "    </tr>\n",
       "    <tr>\n",
       "      <th>1</th>\n",
       "      <td>2011</td>\n",
       "      <td>172677</td>\n",
       "    </tr>\n",
       "    <tr>\n",
       "      <th>2</th>\n",
       "      <td>2012</td>\n",
       "      <td>232480</td>\n",
       "    </tr>\n",
       "    <tr>\n",
       "      <th>3</th>\n",
       "      <td>2013</td>\n",
       "      <td>198424</td>\n",
       "    </tr>\n",
       "    <tr>\n",
       "      <th>4</th>\n",
       "      <td>2014</td>\n",
       "      <td>202276</td>\n",
       "    </tr>\n",
       "    <tr>\n",
       "      <th>5</th>\n",
       "      <td>2015</td>\n",
       "      <td>212523</td>\n",
       "    </tr>\n",
       "    <tr>\n",
       "      <th>6</th>\n",
       "      <td>2016</td>\n",
       "      <td>265417</td>\n",
       "    </tr>\n",
       "    <tr>\n",
       "      <th>7</th>\n",
       "      <td>2017</td>\n",
       "      <td>237292</td>\n",
       "    </tr>\n",
       "    <tr>\n",
       "      <th>8</th>\n",
       "      <td>2018</td>\n",
       "      <td>275435</td>\n",
       "    </tr>\n",
       "    <tr>\n",
       "      <th>9</th>\n",
       "      <td>2019</td>\n",
       "      <td>325922</td>\n",
       "    </tr>\n",
       "    <tr>\n",
       "      <th>10</th>\n",
       "      <td>2020</td>\n",
       "      <td>400654</td>\n",
       "    </tr>\n",
       "    <tr>\n",
       "      <th>11</th>\n",
       "      <td>2021</td>\n",
       "      <td>153275</td>\n",
       "    </tr>\n",
       "  </tbody>\n",
       "</table>\n",
       "</div>"
      ]
     },
     "metadata": {
      "application/vnd.databricks.v1+output": {
       "addedWidgets": {},
       "arguments": {},
       "data": "<div>\n<style scoped>\n    .dataframe tbody tr th:only-of-type {\n        vertical-align: middle;\n    }\n\n    .dataframe tbody tr th {\n        vertical-align: top;\n    }\n\n    .dataframe thead th {\n        text-align: right;\n    }\n</style>\n<table border=\"1\" class=\"dataframe\">\n  <thead>\n    <tr style=\"text-align: right;\">\n      <th></th>\n      <th>data_de_inicio</th>\n      <th>frequencia</th>\n    </tr>\n  </thead>\n  <tbody>\n    <tr>\n      <th>0</th>\n      <td>2010</td>\n      <td>154159</td>\n    </tr>\n    <tr>\n      <th>1</th>\n      <td>2011</td>\n      <td>172677</td>\n    </tr>\n    <tr>\n      <th>2</th>\n      <td>2012</td>\n      <td>232480</td>\n    </tr>\n    <tr>\n      <th>3</th>\n      <td>2013</td>\n      <td>198424</td>\n    </tr>\n    <tr>\n      <th>4</th>\n      <td>2014</td>\n      <td>202276</td>\n    </tr>\n    <tr>\n      <th>5</th>\n      <td>2015</td>\n      <td>212523</td>\n    </tr>\n    <tr>\n      <th>6</th>\n      <td>2016</td>\n      <td>265417</td>\n    </tr>\n    <tr>\n      <th>7</th>\n      <td>2017</td>\n      <td>237292</td>\n    </tr>\n    <tr>\n      <th>8</th>\n      <td>2018</td>\n      <td>275435</td>\n    </tr>\n    <tr>\n      <th>9</th>\n      <td>2019</td>\n      <td>325922</td>\n    </tr>\n    <tr>\n      <th>10</th>\n      <td>2020</td>\n      <td>400654</td>\n    </tr>\n    <tr>\n      <th>11</th>\n      <td>2021</td>\n      <td>153275</td>\n    </tr>\n  </tbody>\n</table>\n</div>",
       "datasetInfos": [],
       "metadata": {},
       "removedWidgets": [],
       "textData": null,
       "type": "htmlSandbox"
      }
     },
     "output_type": "display_data"
    }
   ],
   "source": [
    "frequencia_df.toPandas()"
   ]
  },
  {
   "cell_type": "code",
   "execution_count": 0,
   "metadata": {
    "application/vnd.databricks.v1+cell": {
     "cellMetadata": {
      "byteLimit": 2048000,
      "rowLimit": 10000
     },
     "inputWidgets": {},
     "nuid": "196d53e9-ceab-40af-9598-6c0914d8882e",
     "showTitle": false,
     "title": ""
    }
   },
   "outputs": [
    {
     "output_type": "stream",
     "name": "stdout",
     "output_type": "stream",
     "text": [
      "+--------------+----------+\n|data_de_inicio|frequencia|\n+--------------+----------+\n|          2010|    154159|\n|          2011|    172677|\n|          2012|    232480|\n|          2013|    198424|\n|          2014|    202276|\n|          2015|    212523|\n|          2016|    265417|\n|          2017|    237292|\n|          2018|    275435|\n|          2019|    325922|\n|          2020|    400654|\n|          2021|    153275|\n|         total|   2830534|\n+--------------+----------+\n\n"
     ]
    }
   ],
   "source": [
    "frequencia_df.union(\n",
    "    frequencia_df.select(\n",
    "    f.lit('total').alias('data_de_inicio'),\n",
    "    f.sum(frequencia_df.frequencia).alias(\"frequencia\")\n",
    ")).show()"
   ]
  },
  {
   "cell_type": "code",
   "execution_count": 0,
   "metadata": {
    "application/vnd.databricks.v1+cell": {
     "cellMetadata": {},
     "inputWidgets": {},
     "nuid": "00a8f5d7-49ae-40ba-a5db-c23fafb47f85",
     "showTitle": false,
     "title": ""
    }
   },
   "outputs": [],
   "source": []
  }
 ],
 "metadata": {
  "application/vnd.databricks.v1+notebook": {
   "dashboards": [],
   "language": "python",
   "notebookMetadata": {
    "pythonIndentUnit": 4
   },
   "notebookName": "Alura curso 1",
   "widgets": {}
  }
 },
 "nbformat": 4,
 "nbformat_minor": 0
}
